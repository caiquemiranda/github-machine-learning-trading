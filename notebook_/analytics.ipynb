{
 "cells": [
  {
   "cell_type": "code",
   "execution_count": 1,
   "metadata": {},
   "outputs": [],
   "source": [
    "import pandas as pd"
   ]
  },
  {
   "cell_type": "code",
   "execution_count": 2,
   "metadata": {},
   "outputs": [
    {
     "data": {
      "text/html": [
       "<div>\n",
       "<style scoped>\n",
       "    .dataframe tbody tr th:only-of-type {\n",
       "        vertical-align: middle;\n",
       "    }\n",
       "\n",
       "    .dataframe tbody tr th {\n",
       "        vertical-align: top;\n",
       "    }\n",
       "\n",
       "    .dataframe thead th {\n",
       "        text-align: right;\n",
       "    }\n",
       "</style>\n",
       "<table border=\"1\" class=\"dataframe\">\n",
       "  <thead>\n",
       "    <tr style=\"text-align: right;\">\n",
       "      <th></th>\n",
       "      <th>Short_Window</th>\n",
       "      <th>Long_Window</th>\n",
       "      <th>Cumulative_Returns</th>\n",
       "      <th>Max_Drawdown</th>\n",
       "      <th>Sharpe_Ratio</th>\n",
       "    </tr>\n",
       "  </thead>\n",
       "  <tbody>\n",
       "    <tr>\n",
       "      <th>0</th>\n",
       "      <td>1</td>\n",
       "      <td>21</td>\n",
       "      <td>1.489924</td>\n",
       "      <td>-0.203132</td>\n",
       "      <td>0.919989</td>\n",
       "    </tr>\n",
       "    <tr>\n",
       "      <th>1</th>\n",
       "      <td>1</td>\n",
       "      <td>22</td>\n",
       "      <td>1.520900</td>\n",
       "      <td>-0.240388</td>\n",
       "      <td>0.959859</td>\n",
       "    </tr>\n",
       "    <tr>\n",
       "      <th>2</th>\n",
       "      <td>1</td>\n",
       "      <td>23</td>\n",
       "      <td>1.574135</td>\n",
       "      <td>-0.203920</td>\n",
       "      <td>1.063585</td>\n",
       "    </tr>\n",
       "    <tr>\n",
       "      <th>3</th>\n",
       "      <td>1</td>\n",
       "      <td>24</td>\n",
       "      <td>1.492155</td>\n",
       "      <td>-0.217209</td>\n",
       "      <td>0.933501</td>\n",
       "    </tr>\n",
       "    <tr>\n",
       "      <th>4</th>\n",
       "      <td>1</td>\n",
       "      <td>25</td>\n",
       "      <td>1.511890</td>\n",
       "      <td>-0.217209</td>\n",
       "      <td>0.962034</td>\n",
       "    </tr>\n",
       "  </tbody>\n",
       "</table>\n",
       "</div>"
      ],
      "text/plain": [
       "   Short_Window  Long_Window  Cumulative_Returns  Max_Drawdown  Sharpe_Ratio\n",
       "0             1           21            1.489924     -0.203132      0.919989\n",
       "1             1           22            1.520900     -0.240388      0.959859\n",
       "2             1           23            1.574135     -0.203920      1.063585\n",
       "3             1           24            1.492155     -0.217209      0.933501\n",
       "4             1           25            1.511890     -0.217209      0.962034"
      ]
     },
     "execution_count": 2,
     "metadata": {},
     "output_type": "execute_result"
    }
   ],
   "source": [
    "dados = pd.read_csv('data_/resultados_analise_sensibilidade.csv')\n",
    "dados.head()"
   ]
  },
  {
   "cell_type": "code",
   "execution_count": 3,
   "metadata": {},
   "outputs": [
    {
     "data": {
      "image/png": "[encoded data removed]",
      "text/plain": [
       "<Figure size 432x288 with 1 Axes>"
      ]
     },
     "metadata": {
      "needs_background": "light"
     },
     "output_type": "display_data"
    }
   ],
   "source": [
    "dados['Max_Drawdown'].hist();"
   ]
  },
  {
   "cell_type": "code",
   "execution_count": 4,
   "metadata": {},
   "outputs": [
    {
     "data": {
      "image/png": "[encoded data removed]",
      "text/plain": [
       "<Figure size 432x288 with 1 Axes>"
      ]
     },
     "metadata": {
      "needs_background": "light"
     },
     "output_type": "display_data"
    }
   ],
   "source": [
    "dados['Sharpe_Ratio'].hist();"
   ]
  },
  {
   "cell_type": "code",
   "execution_count": 5,
   "metadata": {},
   "outputs": [
    {
     "data": {
      "image/png": "[encoded data removed]",
      "text/plain": [
       "<Figure size 432x288 with 1 Axes>"
      ]
     },
     "metadata": {
      "needs_background": "light"
     },
     "output_type": "display_data"
    }
   ],
   "source": [
    "dados['Cumulative_Returns'].hist();"
   ]
  },
  {
   "cell_type": "code",
   "execution_count": 6,
   "metadata": {},
   "outputs": [],
   "source": [
    "retorn_acumulados = dados.sort_values(by='Cumulative_Returns',\n",
    "                  ascending=False)"
   ]
  },
  {
   "cell_type": "code",
   "execution_count": 9,
   "metadata": {},
   "outputs": [
    {
     "data": {
      "text/html": [
       "<div>\n",
       "<style scoped>\n",
       "    .dataframe tbody tr th:only-of-type {\n",
       "        vertical-align: middle;\n",
       "    }\n",
       "\n",
       "    .dataframe tbody tr th {\n",
       "        vertical-align: top;\n",
       "    }\n",
       "\n",
       "    .dataframe thead th {\n",
       "        text-align: right;\n",
       "    }\n",
       "</style>\n",
       "<table border=\"1\" class=\"dataframe\">\n",
       "  <thead>\n",
       "    <tr style=\"text-align: right;\">\n",
       "      <th></th>\n",
       "      <th>Short_Window</th>\n",
       "      <th>Long_Window</th>\n",
       "      <th>Cumulative_Returns</th>\n",
       "      <th>Max_Drawdown</th>\n",
       "      <th>Sharpe_Ratio</th>\n",
       "    </tr>\n",
       "  </thead>\n",
       "  <tbody>\n",
       "    <tr>\n",
       "      <th>332</th>\n",
       "      <td>5</td>\n",
       "      <td>33</td>\n",
       "      <td>1.643358</td>\n",
       "      <td>-0.213477</td>\n",
       "      <td>1.159560</td>\n",
       "    </tr>\n",
       "    <tr>\n",
       "      <th>1440</th>\n",
       "      <td>19</td>\n",
       "      <td>21</td>\n",
       "      <td>1.641196</td>\n",
       "      <td>-0.203078</td>\n",
       "      <td>1.129380</td>\n",
       "    </tr>\n",
       "    <tr>\n",
       "      <th>1120</th>\n",
       "      <td>15</td>\n",
       "      <td>21</td>\n",
       "      <td>1.637694</td>\n",
       "      <td>-0.209534</td>\n",
       "      <td>1.084728</td>\n",
       "    </tr>\n",
       "    <tr>\n",
       "      <th>333</th>\n",
       "      <td>5</td>\n",
       "      <td>34</td>\n",
       "      <td>1.612308</td>\n",
       "      <td>-0.213477</td>\n",
       "      <td>1.114186</td>\n",
       "    </tr>\n",
       "    <tr>\n",
       "      <th>1041</th>\n",
       "      <td>14</td>\n",
       "      <td>22</td>\n",
       "      <td>1.593309</td>\n",
       "      <td>-0.195534</td>\n",
       "      <td>1.022654</td>\n",
       "    </tr>\n",
       "    <tr>\n",
       "      <th>...</th>\n",
       "      <td>...</td>\n",
       "      <td>...</td>\n",
       "      <td>...</td>\n",
       "      <td>...</td>\n",
       "      <td>...</td>\n",
       "    </tr>\n",
       "    <tr>\n",
       "      <th>1469</th>\n",
       "      <td>19</td>\n",
       "      <td>50</td>\n",
       "      <td>1.012544</td>\n",
       "      <td>-0.316366</td>\n",
       "      <td>0.064625</td>\n",
       "    </tr>\n",
       "    <tr>\n",
       "      <th>1420</th>\n",
       "      <td>18</td>\n",
       "      <td>81</td>\n",
       "      <td>1.010123</td>\n",
       "      <td>-0.348945</td>\n",
       "      <td>0.058945</td>\n",
       "    </tr>\n",
       "    <tr>\n",
       "      <th>1502</th>\n",
       "      <td>19</td>\n",
       "      <td>83</td>\n",
       "      <td>1.009625</td>\n",
       "      <td>-0.349537</td>\n",
       "      <td>0.057158</td>\n",
       "    </tr>\n",
       "    <tr>\n",
       "      <th>1260</th>\n",
       "      <td>16</td>\n",
       "      <td>81</td>\n",
       "      <td>1.002516</td>\n",
       "      <td>-0.355063</td>\n",
       "      <td>0.041318</td>\n",
       "    </tr>\n",
       "    <tr>\n",
       "      <th>1466</th>\n",
       "      <td>19</td>\n",
       "      <td>47</td>\n",
       "      <td>0.994870</td>\n",
       "      <td>-0.339968</td>\n",
       "      <td>0.020815</td>\n",
       "    </tr>\n",
       "  </tbody>\n",
       "</table>\n",
       "<p>1600 rows × 5 columns</p>\n",
       "</div>"
      ],
      "text/plain": [
       "      Short_Window  Long_Window  Cumulative_Returns  Max_Drawdown  \\\n",
       "332              5           33            1.643358     -0.213477   \n",
       "1440            19           21            1.641196     -0.203078   \n",
       "1120            15           21            1.637694     -0.209534   \n",
       "333              5           34            1.612308     -0.213477   \n",
       "1041            14           22            1.593309     -0.195534   \n",
       "...            ...          ...                 ...           ...   \n",
       "1469            19           50            1.012544     -0.316366   \n",
       "1420            18           81            1.010123     -0.348945   \n",
       "1502            19           83            1.009625     -0.349537   \n",
       "1260            16           81            1.002516     -0.355063   \n",
       "1466            19           47            0.994870     -0.339968   \n",
       "\n",
       "      Sharpe_Ratio  \n",
       "332       1.159560  \n",
       "1440      1.129380  \n",
       "1120      1.084728  \n",
       "333       1.114186  \n",
       "1041      1.022654  \n",
       "...            ...  \n",
       "1469      0.064625  \n",
       "1420      0.058945  \n",
       "1502      0.057158  \n",
       "1260      0.041318  \n",
       "1466      0.020815  \n",
       "\n",
       "[1600 rows x 5 columns]"
      ]
     },
     "execution_count": 9,
     "metadata": {},
     "output_type": "execute_result"
    }
   ],
   "source": [
    "retorn_acumulados"
   ]
  },
  {
   "cell_type": "code",
   "execution_count": 7,
   "metadata": {},
   "outputs": [],
   "source": [
    "drawdown = dados.sort_values(by='Max_Drawdown')"
   ]
  },
  {
   "cell_type": "code",
   "execution_count": 8,
   "metadata": {},
   "outputs": [
    {
     "data": {
      "text/html": [
       "<div>\n",
       "<style scoped>\n",
       "    .dataframe tbody tr th:only-of-type {\n",
       "        vertical-align: middle;\n",
       "    }\n",
       "\n",
       "    .dataframe tbody tr th {\n",
       "        vertical-align: top;\n",
       "    }\n",
       "\n",
       "    .dataframe thead th {\n",
       "        text-align: right;\n",
       "    }\n",
       "</style>\n",
       "<table border=\"1\" class=\"dataframe\">\n",
       "  <thead>\n",
       "    <tr style=\"text-align: right;\">\n",
       "      <th></th>\n",
       "      <th>Short_Window</th>\n",
       "      <th>Long_Window</th>\n",
       "      <th>Cumulative_Returns</th>\n",
       "      <th>Max_Drawdown</th>\n",
       "      <th>Sharpe_Ratio</th>\n",
       "    </tr>\n",
       "  </thead>\n",
       "  <tbody>\n",
       "    <tr>\n",
       "      <th>1438</th>\n",
       "      <td>18</td>\n",
       "      <td>99</td>\n",
       "      <td>1.067440</td>\n",
       "      <td>-0.366944</td>\n",
       "      <td>0.184456</td>\n",
       "    </tr>\n",
       "    <tr>\n",
       "      <th>1439</th>\n",
       "      <td>18</td>\n",
       "      <td>100</td>\n",
       "      <td>1.069632</td>\n",
       "      <td>-0.365644</td>\n",
       "      <td>0.189138</td>\n",
       "    </tr>\n",
       "    <tr>\n",
       "      <th>1039</th>\n",
       "      <td>13</td>\n",
       "      <td>100</td>\n",
       "      <td>1.086397</td>\n",
       "      <td>-0.363780</td>\n",
       "      <td>0.225143</td>\n",
       "    </tr>\n",
       "    <tr>\n",
       "      <th>1191</th>\n",
       "      <td>15</td>\n",
       "      <td>92</td>\n",
       "      <td>1.024147</td>\n",
       "      <td>-0.360227</td>\n",
       "      <td>0.087969</td>\n",
       "    </tr>\n",
       "    <tr>\n",
       "      <th>1188</th>\n",
       "      <td>15</td>\n",
       "      <td>89</td>\n",
       "      <td>1.057183</td>\n",
       "      <td>-0.358681</td>\n",
       "      <td>0.162137</td>\n",
       "    </tr>\n",
       "    <tr>\n",
       "      <th>...</th>\n",
       "      <td>...</td>\n",
       "      <td>...</td>\n",
       "      <td>...</td>\n",
       "      <td>...</td>\n",
       "      <td>...</td>\n",
       "    </tr>\n",
       "    <tr>\n",
       "      <th>472</th>\n",
       "      <td>6</td>\n",
       "      <td>93</td>\n",
       "      <td>1.431566</td>\n",
       "      <td>-0.149028</td>\n",
       "      <td>0.880780</td>\n",
       "    </tr>\n",
       "    <tr>\n",
       "      <th>463</th>\n",
       "      <td>6</td>\n",
       "      <td>84</td>\n",
       "      <td>1.407832</td>\n",
       "      <td>-0.148021</td>\n",
       "      <td>0.831518</td>\n",
       "    </tr>\n",
       "    <tr>\n",
       "      <th>314</th>\n",
       "      <td>4</td>\n",
       "      <td>95</td>\n",
       "      <td>1.425489</td>\n",
       "      <td>-0.148021</td>\n",
       "      <td>0.859353</td>\n",
       "    </tr>\n",
       "    <tr>\n",
       "      <th>464</th>\n",
       "      <td>6</td>\n",
       "      <td>85</td>\n",
       "      <td>1.405084</td>\n",
       "      <td>-0.148021</td>\n",
       "      <td>0.826955</td>\n",
       "    </tr>\n",
       "    <tr>\n",
       "      <th>311</th>\n",
       "      <td>4</td>\n",
       "      <td>92</td>\n",
       "      <td>1.445314</td>\n",
       "      <td>-0.138184</td>\n",
       "      <td>0.894373</td>\n",
       "    </tr>\n",
       "  </tbody>\n",
       "</table>\n",
       "<p>1600 rows × 5 columns</p>\n",
       "</div>"
      ],
      "text/plain": [
       "      Short_Window  Long_Window  Cumulative_Returns  Max_Drawdown  \\\n",
       "1438            18           99            1.067440     -0.366944   \n",
       "1439            18          100            1.069632     -0.365644   \n",
       "1039            13          100            1.086397     -0.363780   \n",
       "1191            15           92            1.024147     -0.360227   \n",
       "1188            15           89            1.057183     -0.358681   \n",
       "...            ...          ...                 ...           ...   \n",
       "472              6           93            1.431566     -0.149028   \n",
       "463              6           84            1.407832     -0.148021   \n",
       "314              4           95            1.425489     -0.148021   \n",
       "464              6           85            1.405084     -0.148021   \n",
       "311              4           92            1.445314     -0.138184   \n",
       "\n",
       "      Sharpe_Ratio  \n",
       "1438      0.184456  \n",
       "1439      0.189138  \n",
       "1039      0.225143  \n",
       "1191      0.087969  \n",
       "1188      0.162137  \n",
       "...            ...  \n",
       "472       0.880780  \n",
       "463       0.831518  \n",
       "314       0.859353  \n",
       "464       0.826955  \n",
       "311       0.894373  \n",
       "\n",
       "[1600 rows x 5 columns]"
      ]
     },
     "execution_count": 8,
     "metadata": {},
     "output_type": "execute_result"
    }
   ],
   "source": [
    "drawdown"
   ]
  }
 ],
 "metadata": {
  "kernelspec": {
   "display_name": "Python 3",
   "language": "python",
   "name": "python3"
  },
  "language_info": {
   "codemirror_mode": {
    "name": "ipython",
    "version": 3
   },
   "file_extension": ".py",
   "mimetype": "text/x-python",
   "name": "python",
   "nbconvert_exporter": "python",
   "pygments_lexer": "ipython3",
   "version": "3.10.5"
  },
  "orig_nbformat": 4
 },
 "nbformat": 4,
 "nbformat_minor": 2
}
