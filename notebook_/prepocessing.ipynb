{
 "cells": [
  {
   "cell_type": "code",
   "execution_count": 1,
   "metadata": {},
   "outputs": [],
   "source": [
    "from sklearn.decomposition import TruncatedSVD\n",
    "from sklearn.feature_extraction.text import TfidfVectorizer\n",
    "import re\n",
    "\n",
    "\n",
    "MIN_DOC_FREQ = 1\n",
    "N_COMPONENTS = 1\n",
    "N_ITER = 1\n",
    "\n",
    "\n",
    "def preprocessing_pipeline():\n",
    "\n",
    "\t# limpeza caracteres\n",
    "\n",
    "\tpattern = r'\\W|\\d|http.*\\s+|www.*\\s+'\n",
    "\n",
    "\tdef preprocessor(text): return re.sub(pattern, '', text)\n",
    "\n",
    "\t# vetorização\n",
    "\n",
    "\tvectorizer = TfidfVectorizer(preprocessor=preprocessor,\n",
    "                              stop_words='english',\n",
    "                              min_df=MIN_DOC_FREQ)\n",
    "\n",
    "\t# reduzindo a dimensionalidade\n",
    "\n",
    "\tdecomposition = TruncatedSVD(n_components=N_COMPONENTS,\n",
    "                              n_iter=N_ITER)\n",
    "\n",
    "\tpipeline = [('tfidf', vectorizer), ('svd', decomposition)]\n",
    "\n",
    "\treturn pipeline"
   ]
  }
 ],
 "metadata": {
  "kernelspec": {
   "display_name": "Python 3",
   "language": "python",
   "name": "python3"
  },
  "language_info": {
   "codemirror_mode": {
    "name": "ipython",
    "version": 3
   },
   "file_extension": ".py",
   "mimetype": "text/x-python",
   "name": "python",
   "nbconvert_exporter": "python",
   "pygments_lexer": "ipython3",
   "version": "3.10.5"
  }
 },
 "nbformat": 4,
 "nbformat_minor": 2
}
