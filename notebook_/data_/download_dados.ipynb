{
 "cells": [
  {
   "cell_type": "code",
   "execution_count": 1,
   "metadata": {},
   "outputs": [],
   "source": [
    "import pandas as pd\n",
    "import yfinance as yf"
   ]
  },
  {
   "cell_type": "code",
   "execution_count": 16,
   "metadata": {},
   "outputs": [],
   "source": [
    "ticker = 'TSLA'\n",
    "start = '2019-01-09'\n",
    "end = '2023-06-09'"
   ]
  },
  {
   "cell_type": "code",
   "execution_count": 17,
   "metadata": {},
   "outputs": [
    {
     "name": "stdout",
     "output_type": "stream",
     "text": [
      "[*********************100%***********************]  1 of 1 completed\n"
     ]
    }
   ],
   "source": [
    "dados = yf.download(tickers = ticker,\n",
    "                    start = start,\n",
    "                    end = end)"
   ]
  },
  {
   "cell_type": "code",
   "execution_count": 18,
   "metadata": {},
   "outputs": [],
   "source": [
    "dados = pd.DataFrame(dados)"
   ]
  },
  {
   "cell_type": "code",
   "execution_count": 19,
   "metadata": {},
   "outputs": [
    {
     "data": {
      "text/html": [
       "<div>\n",
       "<style scoped>\n",
       "    .dataframe tbody tr th:only-of-type {\n",
       "        vertical-align: middle;\n",
       "    }\n",
       "\n",
       "    .dataframe tbody tr th {\n",
       "        vertical-align: top;\n",
       "    }\n",
       "\n",
       "    .dataframe thead th {\n",
       "        text-align: right;\n",
       "    }\n",
       "</style>\n",
       "<table border=\"1\" class=\"dataframe\">\n",
       "  <thead>\n",
       "    <tr style=\"text-align: right;\">\n",
       "      <th></th>\n",
       "      <th>Open</th>\n",
       "      <th>High</th>\n",
       "      <th>Low</th>\n",
       "      <th>Close</th>\n",
       "      <th>Adj Close</th>\n",
       "      <th>Volume</th>\n",
       "    </tr>\n",
       "    <tr>\n",
       "      <th>Date</th>\n",
       "      <th></th>\n",
       "      <th></th>\n",
       "      <th></th>\n",
       "      <th></th>\n",
       "      <th></th>\n",
       "      <th></th>\n",
       "    </tr>\n",
       "  </thead>\n",
       "  <tbody>\n",
       "    <tr>\n",
       "      <th>2019-01-09</th>\n",
       "      <td>9.700</td>\n",
       "      <td>9.700</td>\n",
       "      <td>9.700</td>\n",
       "      <td>9.700</td>\n",
       "      <td>9.700</td>\n",
       "      <td>165300</td>\n",
       "    </tr>\n",
       "    <tr>\n",
       "      <th>2019-01-10</th>\n",
       "      <td>9.700</td>\n",
       "      <td>9.700</td>\n",
       "      <td>9.700</td>\n",
       "      <td>9.700</td>\n",
       "      <td>9.700</td>\n",
       "      <td>100</td>\n",
       "    </tr>\n",
       "    <tr>\n",
       "      <th>2019-01-11</th>\n",
       "      <td>9.750</td>\n",
       "      <td>9.750</td>\n",
       "      <td>9.750</td>\n",
       "      <td>9.750</td>\n",
       "      <td>9.750</td>\n",
       "      <td>500200</td>\n",
       "    </tr>\n",
       "    <tr>\n",
       "      <th>2019-01-14</th>\n",
       "      <td>9.780</td>\n",
       "      <td>9.800</td>\n",
       "      <td>9.760</td>\n",
       "      <td>9.800</td>\n",
       "      <td>9.800</td>\n",
       "      <td>238300</td>\n",
       "    </tr>\n",
       "    <tr>\n",
       "      <th>2019-01-15</th>\n",
       "      <td>9.780</td>\n",
       "      <td>9.910</td>\n",
       "      <td>9.780</td>\n",
       "      <td>9.800</td>\n",
       "      <td>9.800</td>\n",
       "      <td>42700</td>\n",
       "    </tr>\n",
       "    <tr>\n",
       "      <th>...</th>\n",
       "      <td>...</td>\n",
       "      <td>...</td>\n",
       "      <td>...</td>\n",
       "      <td>...</td>\n",
       "      <td>...</td>\n",
       "      <td>...</td>\n",
       "    </tr>\n",
       "    <tr>\n",
       "      <th>2023-06-02</th>\n",
       "      <td>0.600</td>\n",
       "      <td>0.602</td>\n",
       "      <td>0.563</td>\n",
       "      <td>0.586</td>\n",
       "      <td>0.586</td>\n",
       "      <td>34755400</td>\n",
       "    </tr>\n",
       "    <tr>\n",
       "      <th>2023-06-05</th>\n",
       "      <td>0.582</td>\n",
       "      <td>0.586</td>\n",
       "      <td>0.556</td>\n",
       "      <td>0.556</td>\n",
       "      <td>0.556</td>\n",
       "      <td>39734600</td>\n",
       "    </tr>\n",
       "    <tr>\n",
       "      <th>2023-06-06</th>\n",
       "      <td>0.557</td>\n",
       "      <td>0.570</td>\n",
       "      <td>0.521</td>\n",
       "      <td>0.542</td>\n",
       "      <td>0.542</td>\n",
       "      <td>44064500</td>\n",
       "    </tr>\n",
       "    <tr>\n",
       "      <th>2023-06-07</th>\n",
       "      <td>0.558</td>\n",
       "      <td>0.600</td>\n",
       "      <td>0.541</td>\n",
       "      <td>0.593</td>\n",
       "      <td>0.593</td>\n",
       "      <td>41481900</td>\n",
       "    </tr>\n",
       "    <tr>\n",
       "      <th>2023-06-08</th>\n",
       "      <td>0.587</td>\n",
       "      <td>0.655</td>\n",
       "      <td>0.582</td>\n",
       "      <td>0.609</td>\n",
       "      <td>0.609</td>\n",
       "      <td>56063800</td>\n",
       "    </tr>\n",
       "  </tbody>\n",
       "</table>\n",
       "<p>1112 rows × 6 columns</p>\n",
       "</div>"
      ],
      "text/plain": [
       "             Open   High    Low  Close  Adj Close    Volume\n",
       "Date                                                       \n",
       "2019-01-09  9.700  9.700  9.700  9.700      9.700    165300\n",
       "2019-01-10  9.700  9.700  9.700  9.700      9.700       100\n",
       "2019-01-11  9.750  9.750  9.750  9.750      9.750    500200\n",
       "2019-01-14  9.780  9.800  9.760  9.800      9.800    238300\n",
       "2019-01-15  9.780  9.910  9.780  9.800      9.800     42700\n",
       "...           ...    ...    ...    ...        ...       ...\n",
       "2023-06-02  0.600  0.602  0.563  0.586      0.586  34755400\n",
       "2023-06-05  0.582  0.586  0.556  0.556      0.556  39734600\n",
       "2023-06-06  0.557  0.570  0.521  0.542      0.542  44064500\n",
       "2023-06-07  0.558  0.600  0.541  0.593      0.593  41481900\n",
       "2023-06-08  0.587  0.655  0.582  0.609      0.609  56063800\n",
       "\n",
       "[1112 rows x 6 columns]"
      ]
     },
     "execution_count": 19,
     "metadata": {},
     "output_type": "execute_result"
    }
   ],
   "source": [
    "dados"
   ]
  },
  {
   "cell_type": "code",
   "execution_count": 20,
   "metadata": {},
   "outputs": [],
   "source": [
    "dados.to_csv(f'{ticker}.csv')"
   ]
  },
  {
   "cell_type": "code",
   "execution_count": null,
   "metadata": {},
   "outputs": [],
   "source": []
  }
 ],
 "metadata": {
  "kernelspec": {
   "display_name": "Python 3",
   "language": "python",
   "name": "python3"
  },
  "language_info": {
   "codemirror_mode": {
    "name": "ipython",
    "version": 3
   },
   "file_extension": ".py",
   "mimetype": "text/x-python",
   "name": "python",
   "nbconvert_exporter": "python",
   "pygments_lexer": "ipython3",
   "version": "3.10.5"
  },
  "orig_nbformat": 4
 },
 "nbformat": 4,
 "nbformat_minor": 2
}
