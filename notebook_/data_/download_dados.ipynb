{
 "cells": [
  {
   "cell_type": "code",
   "execution_count": 1,
   "metadata": {},
   "outputs": [],
   "source": [
    "import pandas as pd\n",
    "import yfinance as yf"
   ]
  },
  {
   "cell_type": "code",
   "execution_count": 51,
   "metadata": {},
   "outputs": [],
   "source": [
    "ticker = 'CL=F'\n",
    "start = '2019-01-09'\n",
    "end = '2023-06-09'"
   ]
  },
  {
   "cell_type": "code",
   "execution_count": 52,
   "metadata": {},
   "outputs": [
    {
     "name": "stdout",
     "output_type": "stream",
     "text": [
      "[*********************100%***********************]  1 of 1 completed\n"
     ]
    }
   ],
   "source": [
    "dados = yf.download(tickers = ticker,\n",
    "                    start = start,\n",
    "                    end = end)"
   ]
  },
  {
   "cell_type": "code",
   "execution_count": 53,
   "metadata": {},
   "outputs": [],
   "source": [
    "dados = pd.DataFrame(dados)"
   ]
  },
  {
   "cell_type": "code",
   "execution_count": 54,
   "metadata": {},
   "outputs": [
    {
     "data": {
      "text/html": [
       "<div>\n",
       "<style scoped>\n",
       "    .dataframe tbody tr th:only-of-type {\n",
       "        vertical-align: middle;\n",
       "    }\n",
       "\n",
       "    .dataframe tbody tr th {\n",
       "        vertical-align: top;\n",
       "    }\n",
       "\n",
       "    .dataframe thead th {\n",
       "        text-align: right;\n",
       "    }\n",
       "</style>\n",
       "<table border=\"1\" class=\"dataframe\">\n",
       "  <thead>\n",
       "    <tr style=\"text-align: right;\">\n",
       "      <th></th>\n",
       "      <th>Open</th>\n",
       "      <th>High</th>\n",
       "      <th>Low</th>\n",
       "      <th>Close</th>\n",
       "      <th>Adj Close</th>\n",
       "      <th>Volume</th>\n",
       "    </tr>\n",
       "    <tr>\n",
       "      <th>Date</th>\n",
       "      <th></th>\n",
       "      <th></th>\n",
       "      <th></th>\n",
       "      <th></th>\n",
       "      <th></th>\n",
       "      <th></th>\n",
       "    </tr>\n",
       "  </thead>\n",
       "  <tbody>\n",
       "    <tr>\n",
       "      <th>2019-01-09</th>\n",
       "      <td>49.799999</td>\n",
       "      <td>52.580002</td>\n",
       "      <td>49.709999</td>\n",
       "      <td>52.360001</td>\n",
       "      <td>52.360001</td>\n",
       "      <td>891922</td>\n",
       "    </tr>\n",
       "    <tr>\n",
       "      <th>2019-01-10</th>\n",
       "      <td>52.180000</td>\n",
       "      <td>52.779999</td>\n",
       "      <td>51.369999</td>\n",
       "      <td>52.590000</td>\n",
       "      <td>52.590000</td>\n",
       "      <td>821782</td>\n",
       "    </tr>\n",
       "    <tr>\n",
       "      <th>2019-01-11</th>\n",
       "      <td>52.279999</td>\n",
       "      <td>53.310001</td>\n",
       "      <td>51.180000</td>\n",
       "      <td>51.590000</td>\n",
       "      <td>51.590000</td>\n",
       "      <td>812339</td>\n",
       "    </tr>\n",
       "    <tr>\n",
       "      <th>2019-01-14</th>\n",
       "      <td>51.730000</td>\n",
       "      <td>52.110001</td>\n",
       "      <td>50.380001</td>\n",
       "      <td>50.509998</td>\n",
       "      <td>50.509998</td>\n",
       "      <td>791527</td>\n",
       "    </tr>\n",
       "    <tr>\n",
       "      <th>2019-01-15</th>\n",
       "      <td>50.779999</td>\n",
       "      <td>52.299999</td>\n",
       "      <td>50.639999</td>\n",
       "      <td>52.110001</td>\n",
       "      <td>52.110001</td>\n",
       "      <td>664183</td>\n",
       "    </tr>\n",
       "    <tr>\n",
       "      <th>...</th>\n",
       "      <td>...</td>\n",
       "      <td>...</td>\n",
       "      <td>...</td>\n",
       "      <td>...</td>\n",
       "      <td>...</td>\n",
       "      <td>...</td>\n",
       "    </tr>\n",
       "    <tr>\n",
       "      <th>2023-06-02</th>\n",
       "      <td>70.209999</td>\n",
       "      <td>72.169998</td>\n",
       "      <td>70.000000</td>\n",
       "      <td>71.739998</td>\n",
       "      <td>71.739998</td>\n",
       "      <td>322596</td>\n",
       "    </tr>\n",
       "    <tr>\n",
       "      <th>2023-06-05</th>\n",
       "      <td>75.029999</td>\n",
       "      <td>75.059998</td>\n",
       "      <td>71.730003</td>\n",
       "      <td>72.150002</td>\n",
       "      <td>72.150002</td>\n",
       "      <td>383943</td>\n",
       "    </tr>\n",
       "    <tr>\n",
       "      <th>2023-06-06</th>\n",
       "      <td>71.989998</td>\n",
       "      <td>72.330002</td>\n",
       "      <td>70.129997</td>\n",
       "      <td>71.739998</td>\n",
       "      <td>71.739998</td>\n",
       "      <td>314962</td>\n",
       "    </tr>\n",
       "    <tr>\n",
       "      <th>2023-06-07</th>\n",
       "      <td>71.559998</td>\n",
       "      <td>73.190002</td>\n",
       "      <td>71.010002</td>\n",
       "      <td>72.529999</td>\n",
       "      <td>72.529999</td>\n",
       "      <td>299127</td>\n",
       "    </tr>\n",
       "    <tr>\n",
       "      <th>2023-06-08</th>\n",
       "      <td>72.470001</td>\n",
       "      <td>73.279999</td>\n",
       "      <td>69.029999</td>\n",
       "      <td>71.290001</td>\n",
       "      <td>71.290001</td>\n",
       "      <td>485396</td>\n",
       "    </tr>\n",
       "  </tbody>\n",
       "</table>\n",
       "<p>1112 rows × 6 columns</p>\n",
       "</div>"
      ],
      "text/plain": [
       "                 Open       High        Low      Close  Adj Close  Volume\n",
       "Date                                                                     \n",
       "2019-01-09  49.799999  52.580002  49.709999  52.360001  52.360001  891922\n",
       "2019-01-10  52.180000  52.779999  51.369999  52.590000  52.590000  821782\n",
       "2019-01-11  52.279999  53.310001  51.180000  51.590000  51.590000  812339\n",
       "2019-01-14  51.730000  52.110001  50.380001  50.509998  50.509998  791527\n",
       "2019-01-15  50.779999  52.299999  50.639999  52.110001  52.110001  664183\n",
       "...               ...        ...        ...        ...        ...     ...\n",
       "2023-06-02  70.209999  72.169998  70.000000  71.739998  71.739998  322596\n",
       "2023-06-05  75.029999  75.059998  71.730003  72.150002  72.150002  383943\n",
       "2023-06-06  71.989998  72.330002  70.129997  71.739998  71.739998  314962\n",
       "2023-06-07  71.559998  73.190002  71.010002  72.529999  72.529999  299127\n",
       "2023-06-08  72.470001  73.279999  69.029999  71.290001  71.290001  485396\n",
       "\n",
       "[1112 rows x 6 columns]"
      ]
     },
     "execution_count": 54,
     "metadata": {},
     "output_type": "execute_result"
    }
   ],
   "source": [
    "dados"
   ]
  },
  {
   "cell_type": "code",
   "execution_count": 55,
   "metadata": {},
   "outputs": [],
   "source": [
    "dados.to_csv(f'{ticker}.csv')"
   ]
  },
  {
   "cell_type": "code",
   "execution_count": null,
   "metadata": {},
   "outputs": [],
   "source": []
  }
 ],
 "metadata": {
  "kernelspec": {
   "display_name": "Python 3",
   "language": "python",
   "name": "python3"
  },
  "language_info": {
   "codemirror_mode": {
    "name": "ipython",
    "version": 3
   },
   "file_extension": ".py",
   "mimetype": "text/x-python",
   "name": "python",
   "nbconvert_exporter": "python",
   "pygments_lexer": "ipython3",
   "version": "3.10.5"
  },
  "orig_nbformat": 4
 },
 "nbformat": 4,
 "nbformat_minor": 2
}
