{
 "cells": [
  {
   "cell_type": "code",
   "execution_count": null,
   "metadata": {},
   "outputs": [],
   "source": [
    "# dados\n",
    "import matplotlib.pyplot as plt\n",
    "import pandas as pd\n",
    "import yfinance as yf\n",
    "import warnings\n",
    "\n",
    "warnings.filterwarnings('ignore')"
   ]
  },
  {
   "cell_type": "code",
   "execution_count": null,
   "metadata": {},
   "outputs": [],
   "source": [
    "dados = yf.download(\"AAPL\", \n",
    "                    start='2022-01-01',\n",
    "                    end='2023-01-01')"
   ]
  },
  {
   "cell_type": "code",
   "execution_count": null,
   "metadata": {},
   "outputs": [],
   "source": [
    "#dados = pd.DataFrame(dados)"
   ]
  },
  {
   "cell_type": "code",
   "execution_count": null,
   "metadata": {},
   "outputs": [],
   "source": [
    "dados"
   ]
  },
  {
   "cell_type": "code",
   "execution_count": null,
   "metadata": {},
   "outputs": [],
   "source": [
    "def bollinger_bands(dados, janela, num_desvios):\n",
    "    rolling_mean = dados['Adj Close'].rolling(window=janela).mean()\n",
    "    rolling_std = dados['Adj Close'].rolling(window=janela).std()\n",
    "    \n",
    "    upper_band = rolling_mean + num_desvios * rolling_std\n",
    "    lower_band = rolling_mean - num_desvios * rolling_std\n",
    "    \n",
    "    return upper_band, lower_band\n",
    "\n",
    "janela_tamanho = 21\n",
    "num_desvios = 2\n",
    "\n",
    "upper_band, lower_band = bollinger_bands(dados, janela_tamanho, num_desvios)\n",
    "\n",
    "dados['Upper Band'] = upper_band\n",
    "dados['Lower Band'] = lower_band\n",
    "\n",
    "plt.figure(figsize=(12, 6))\n",
    "plt.plot(dados.index, dados['Adj Close'], label='Preço de Fechamento', color='blue')\n",
    "plt.plot(dados.index, dados['Upper Band'], label='Banda Superior', color='green', linestyle='dashed')\n",
    "plt.plot(dados.index, dados['Lower Band'], label='Banda Inferior', color='red', linestyle='dashed')\n",
    "plt.fill_between(dados.index, dados['Lower Band'], dados['Upper Band'], alpha=0.2)\n",
    "plt.xlabel('Data')\n",
    "plt.ylabel('Preço')\n",
    "plt.title('Bandas de Bollinger')\n",
    "plt.legend()\n",
    "plt.grid()\n",
    "plt.show()"
   ]
  },
  {
   "cell_type": "code",
   "execution_count": null,
   "metadata": {},
   "outputs": [],
   "source": [
    "dados"
   ]
  },
  {
   "cell_type": "code",
   "execution_count": null,
   "metadata": {},
   "outputs": [],
   "source": [
    "def true_range(high, low, close):\n",
    "    tr1 = abs(high - low)\n",
    "    tr2 = abs(high - close.shift())\n",
    "    tr3 = abs(low - close.shift())\n",
    "\n",
    "    true_range = pd.DataFrame({'TR': [tr1, tr2, tr3]}).max(axis=0)\n",
    "    \n",
    "    return true_range\n",
    "\n",
    "# Cálculo do True Range\n",
    "true_range = true_range(dados['High'], \n",
    "                        dados['Low'], \n",
    "                        dados['Adj Close'])\n",
    "\n",
    "print(true_range)"
   ]
  },
  {
   "cell_type": "code",
   "execution_count": null,
   "metadata": {},
   "outputs": [],
   "source": [
    "def true_range(high, low, close):\n",
    "    tr1 = abs(high - low)\n",
    "    tr2 = abs(high - close.shift())\n",
    "    tr3 = abs(low - close.shift())\n",
    "\n",
    "    true_range = pd.concat([tr1, tr2, tr3], axis=1).max(axis=1)\n",
    "    \n",
    "    return true_range"
   ]
  },
  {
   "cell_type": "code",
   "execution_count": null,
   "metadata": {},
   "outputs": [],
   "source": [
    "# Cálculo do True Range\n",
    "true_range = true_range(dados['High'], \n",
    "                        dados['Low'], \n",
    "                        dados['Adj Close'])\n",
    "\n",
    "print(true_range)"
   ]
  },
  {
   "cell_type": "code",
   "execution_count": null,
   "metadata": {},
   "outputs": [],
   "source": []
  },
  {
   "cell_type": "code",
   "execution_count": null,
   "metadata": {},
   "outputs": [],
   "source": [
    "def true_range(high, low, close):\n",
    "    tr1 = abs(high - low)\n",
    "    tr2 = abs(high - close.shift())\n",
    "    tr3 = abs(low - close.shift())\n",
    "\n",
    "    true_range = pd.concat([tr1, tr2, tr3], axis=1).max(axis=1)\n",
    "    \n",
    "    return dados['true_range']\n",
    "\n",
    "def average_true_range(data, janela):\n",
    "    tr = true_range(data['High'], data['Low'], data['Adj Close'])\n",
    "    atr = tr.rolling(window=janela).mean()\n",
    "    \n",
    "    return atr\n",
    "\n",
    "janela_tamanho = 5\n",
    "\n",
    "atr = average_true_range(dados, janela_tamanho)\n",
    "\n",
    "dados['ATR'] = atr\n",
    "\n",
    "plt.figure(figsize=(12, 6))\n",
    "plt.plot(dados.index, \n",
    "         dados['ATR'], \n",
    "         label='Average True Range (ATR)',\n",
    "         color='blue')\n",
    "\n",
    "plt.xlabel('Data')\n",
    "plt.ylabel('ATR')\n",
    "plt.title('Average True Range (ATR)')\n",
    "plt.legend()\n",
    "plt.grid()\n",
    "plt.show()\n"
   ]
  },
  {
   "cell_type": "code",
   "execution_count": null,
   "metadata": {},
   "outputs": [],
   "source": [
    "def true_range(high, low, close):\n",
    "    tr1 = abs(high - low)\n",
    "    tr2 = abs(high - close.shift())\n",
    "    tr3 = abs(low - close.shift())\n",
    "\n",
    "    true_range = pd.concat([tr1, tr2, tr3], axis=1).max(axis=1)\n",
    "    \n",
    "    return true_range\n",
    "\n",
    "def average_true_range(data, janela):\n",
    "    tr = true_range(data['High'], data['Low'], data['Adj Close'])\n",
    "    atr = tr.rolling(window=janela).mean()\n",
    "    \n",
    "    return atr\n",
    "\n",
    "\n",
    "df = pd.DataFrame(dados)\n",
    "df.set_index('Date', inplace=True)\n",
    "\n",
    "# Cálculo do Average True Range (ATR)\n",
    "janela_tamanho = 5\n",
    "atr = average_true_range(df, janela_tamanho)\n",
    "\n",
    "df['ATR'] = atr\n",
    "\n",
    "# Plotagem do Average True Range (ATR)\n",
    "plt.figure(figsize=(12, 6))\n",
    "plt.plot(df.index, df['ATR'], label='Average True Range (ATR)', color='blue')\n",
    "plt.xlabel('Data')\n",
    "plt.ylabel('ATR')\n",
    "plt.title('Average True Range (ATR)')\n",
    "plt.legend()\n",
    "plt.grid()\n",
    "plt.show()\n"
   ]
  }
 ],
 "metadata": {
  "kernelspec": {
   "display_name": "Python 3",
   "language": "python",
   "name": "python3"
  },
  "language_info": {
   "codemirror_mode": {
    "name": "ipython",
    "version": 3
   },
   "file_extension": ".py",
   "mimetype": "text/x-python",
   "name": "python",
   "nbconvert_exporter": "python",
   "pygments_lexer": "ipython3",
   "version": "3.10.5"
  },
  "orig_nbformat": 4
 },
 "nbformat": 4,
 "nbformat_minor": 2
}
