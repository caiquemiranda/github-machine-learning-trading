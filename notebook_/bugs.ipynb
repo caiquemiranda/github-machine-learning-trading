{
 "cells": [
  {
   "cell_type": "code",
   "execution_count": 1,
   "metadata": {},
   "outputs": [],
   "source": [
    "import yfinance as yf\n",
    "import pandas as pd\n",
    "#import matplotlib.pyplot as plt"
   ]
  },
  {
   "cell_type": "code",
   "execution_count": null,
   "metadata": {},
   "outputs": [],
   "source": [
    "import warnings\n",
    "warnings.filterwarnings('ignore')"
   ]
  },
  {
   "cell_type": "code",
   "execution_count": 2,
   "metadata": {},
   "outputs": [],
   "source": [
    "ticker_symbol = 'AAPL'  # Substitua 'AAPL' pelo ticker do ativo financeiro desejado\n",
    "start_date = '2022-01-01'  # Defina a data de início do histórico de dados\n",
    "end_date = '2023-01-01'  # Defina a data de término do histórico de dados\n",
    "moving_average_window = 20  # Janela da média móvel (20 dias neste exemplo)\n",
    "num_standard_deviations = 2.5  # Número de desvios padrão para a banda superior e inferior\n",
    "stop_loss_percent = 0.05  # Valor percentual para o stop loss (5% neste exemplo)"
   ]
  },
  {
   "cell_type": "code",
   "execution_count": 3,
   "metadata": {},
   "outputs": [
    {
     "name": "stdout",
     "output_type": "stream",
     "text": [
      "[*********************100%***********************]  1 of 1 completed\n"
     ]
    }
   ],
   "source": [
    "def download_historical_data(ticker, start_date, end_date):\n",
    "    data = yf.download(ticker, start=start_date, end=end_date)\n",
    "    return data\n",
    "\n",
    "# Baixar dados históricos do Yahoo Finance\n",
    "data = download_historical_data(ticker_symbol, start_date, end_date)"
   ]
  },
  {
   "cell_type": "code",
   "execution_count": 4,
   "metadata": {},
   "outputs": [
    {
     "data": {
      "text/html": [
       "<div>\n",
       "<style scoped>\n",
       "    .dataframe tbody tr th:only-of-type {\n",
       "        vertical-align: middle;\n",
       "    }\n",
       "\n",
       "    .dataframe tbody tr th {\n",
       "        vertical-align: top;\n",
       "    }\n",
       "\n",
       "    .dataframe thead th {\n",
       "        text-align: right;\n",
       "    }\n",
       "</style>\n",
       "<table border=\"1\" class=\"dataframe\">\n",
       "  <thead>\n",
       "    <tr style=\"text-align: right;\">\n",
       "      <th></th>\n",
       "      <th>Open</th>\n",
       "      <th>High</th>\n",
       "      <th>Low</th>\n",
       "      <th>Close</th>\n",
       "      <th>Adj Close</th>\n",
       "      <th>Volume</th>\n",
       "    </tr>\n",
       "    <tr>\n",
       "      <th>Date</th>\n",
       "      <th></th>\n",
       "      <th></th>\n",
       "      <th></th>\n",
       "      <th></th>\n",
       "      <th></th>\n",
       "      <th></th>\n",
       "    </tr>\n",
       "  </thead>\n",
       "  <tbody>\n",
       "    <tr>\n",
       "      <th>2022-01-03</th>\n",
       "      <td>177.830002</td>\n",
       "      <td>182.880005</td>\n",
       "      <td>177.710007</td>\n",
       "      <td>182.009995</td>\n",
       "      <td>180.434280</td>\n",
       "      <td>104487900</td>\n",
       "    </tr>\n",
       "    <tr>\n",
       "      <th>2022-01-04</th>\n",
       "      <td>182.630005</td>\n",
       "      <td>182.940002</td>\n",
       "      <td>179.119995</td>\n",
       "      <td>179.699997</td>\n",
       "      <td>178.144318</td>\n",
       "      <td>99310400</td>\n",
       "    </tr>\n",
       "    <tr>\n",
       "      <th>2022-01-05</th>\n",
       "      <td>179.610001</td>\n",
       "      <td>180.169998</td>\n",
       "      <td>174.639999</td>\n",
       "      <td>174.919998</td>\n",
       "      <td>173.405670</td>\n",
       "      <td>94537600</td>\n",
       "    </tr>\n",
       "    <tr>\n",
       "      <th>2022-01-06</th>\n",
       "      <td>172.699997</td>\n",
       "      <td>175.300003</td>\n",
       "      <td>171.639999</td>\n",
       "      <td>172.000000</td>\n",
       "      <td>170.510956</td>\n",
       "      <td>96904000</td>\n",
       "    </tr>\n",
       "    <tr>\n",
       "      <th>2022-01-07</th>\n",
       "      <td>172.889999</td>\n",
       "      <td>174.139999</td>\n",
       "      <td>171.029999</td>\n",
       "      <td>172.169998</td>\n",
       "      <td>170.679489</td>\n",
       "      <td>86709100</td>\n",
       "    </tr>\n",
       "  </tbody>\n",
       "</table>\n",
       "</div>"
      ],
      "text/plain": [
       "                  Open        High         Low       Close   Adj Close  \\\n",
       "Date                                                                     \n",
       "2022-01-03  177.830002  182.880005  177.710007  182.009995  180.434280   \n",
       "2022-01-04  182.630005  182.940002  179.119995  179.699997  178.144318   \n",
       "2022-01-05  179.610001  180.169998  174.639999  174.919998  173.405670   \n",
       "2022-01-06  172.699997  175.300003  171.639999  172.000000  170.510956   \n",
       "2022-01-07  172.889999  174.139999  171.029999  172.169998  170.679489   \n",
       "\n",
       "               Volume  \n",
       "Date                   \n",
       "2022-01-03  104487900  \n",
       "2022-01-04   99310400  \n",
       "2022-01-05   94537600  \n",
       "2022-01-06   96904000  \n",
       "2022-01-07   86709100  "
      ]
     },
     "execution_count": 4,
     "metadata": {},
     "output_type": "execute_result"
    }
   ],
   "source": [
    "data.head()"
   ]
  },
  {
   "cell_type": "code",
   "execution_count": null,
   "metadata": {},
   "outputs": [],
   "source": [
    "data['Cumulative_Returns'] = "
   ]
  },
  {
   "cell_type": "code",
   "execution_count": 5,
   "metadata": {},
   "outputs": [
    {
     "ename": "NameError",
     "evalue": "name 'trading_strategy' is not defined",
     "output_type": "error",
     "traceback": [
      "\u001b[1;31m---------------------------------------------------------------------------\u001b[0m",
      "\u001b[1;31mNameError\u001b[0m                                 Traceback (most recent call last)",
      "\u001b[1;32md:\\GIT-repository\\github-machine-learning-trading\\machine-learning-trading\\notebook_\\bugs.ipynb Cell 5\u001b[0m in \u001b[0;36m<cell line: 9>\u001b[1;34m()\u001b[0m\n\u001b[0;32m      <a href='vscode-notebook-cell:/d%3A/GIT-repository/github-machine-learning-trading/machine-learning-trading/notebook_/bugs.ipynb#X23sZmlsZQ%3D%3D?line=5'>6</a>\u001b[0m     \u001b[39mreturn\u001b[39;00m data[\u001b[39m'\u001b[39m\u001b[39mCumulative_Returns\u001b[39m\u001b[39m'\u001b[39m]\n\u001b[0;32m      <a href='vscode-notebook-cell:/d%3A/GIT-repository/github-machine-learning-trading/machine-learning-trading/notebook_/bugs.ipynb#X23sZmlsZQ%3D%3D?line=7'>8</a>\u001b[0m \u001b[39m# Calcular os retornos acumulados\u001b[39;00m\n\u001b[1;32m----> <a href='vscode-notebook-cell:/d%3A/GIT-repository/github-machine-learning-trading/machine-learning-trading/notebook_/bugs.ipynb#X23sZmlsZQ%3D%3D?line=8'>9</a>\u001b[0m data[\u001b[39m'\u001b[39m\u001b[39mCumulative_Returns\u001b[39m\u001b[39m'\u001b[39m] \u001b[39m=\u001b[39m calculate_cumulative_returns(data)\n",
      "\u001b[1;32md:\\GIT-repository\\github-machine-learning-trading\\machine-learning-trading\\notebook_\\bugs.ipynb Cell 5\u001b[0m in \u001b[0;36mcalculate_cumulative_returns\u001b[1;34m(data)\u001b[0m\n\u001b[0;32m      <a href='vscode-notebook-cell:/d%3A/GIT-repository/github-machine-learning-trading/machine-learning-trading/notebook_/bugs.ipynb#X23sZmlsZQ%3D%3D?line=1'>2</a>\u001b[0m data[\u001b[39m'\u001b[39m\u001b[39mReturns\u001b[39m\u001b[39m'\u001b[39m] \u001b[39m=\u001b[39m data[\u001b[39m'\u001b[39m\u001b[39mClose\u001b[39m\u001b[39m'\u001b[39m]\u001b[39m.\u001b[39mpct_change()\n\u001b[0;32m      <a href='vscode-notebook-cell:/d%3A/GIT-repository/github-machine-learning-trading/machine-learning-trading/notebook_/bugs.ipynb#X23sZmlsZQ%3D%3D?line=2'>3</a>\u001b[0m data[\u001b[39m'\u001b[39m\u001b[39mPosition\u001b[39m\u001b[39m'\u001b[39m] \u001b[39m=\u001b[39m \u001b[39m0\u001b[39m  \u001b[39m# Inicializa a coluna 'Position'\u001b[39;00m\n\u001b[1;32m----> <a href='vscode-notebook-cell:/d%3A/GIT-repository/github-machine-learning-trading/machine-learning-trading/notebook_/bugs.ipynb#X23sZmlsZQ%3D%3D?line=3'>4</a>\u001b[0m data_with_positions \u001b[39m=\u001b[39m trading_strategy(data, moving_average_window, num_standard_deviations, stop_loss_percent)\n\u001b[0;32m      <a href='vscode-notebook-cell:/d%3A/GIT-repository/github-machine-learning-trading/machine-learning-trading/notebook_/bugs.ipynb#X23sZmlsZQ%3D%3D?line=4'>5</a>\u001b[0m data[\u001b[39m'\u001b[39m\u001b[39mCumulative_Returns\u001b[39m\u001b[39m'\u001b[39m] \u001b[39m=\u001b[39m (data_with_positions[\u001b[39m'\u001b[39m\u001b[39mReturns\u001b[39m\u001b[39m'\u001b[39m] \u001b[39m*\u001b[39m data_with_positions[\u001b[39m'\u001b[39m\u001b[39mPosition\u001b[39m\u001b[39m'\u001b[39m])\u001b[39m.\u001b[39mcumsum()\n\u001b[0;32m      <a href='vscode-notebook-cell:/d%3A/GIT-repository/github-machine-learning-trading/machine-learning-trading/notebook_/bugs.ipynb#X23sZmlsZQ%3D%3D?line=5'>6</a>\u001b[0m \u001b[39mreturn\u001b[39;00m data[\u001b[39m'\u001b[39m\u001b[39mCumulative_Returns\u001b[39m\u001b[39m'\u001b[39m]\n",
      "\u001b[1;31mNameError\u001b[0m: name 'trading_strategy' is not defined"
     ]
    }
   ],
   "source": [
    "def calculate_cumulative_returns(data):\n",
    "    data['Returns'] = data['Close'].pct_change()\n",
    "    data['Position'] = 0  # Inicializa a coluna 'Position'\n",
    "    data_with_positions = trading_strategy(data, moving_average_window, num_standard_deviations, stop_loss_percent)\n",
    "    data['Cumulative_Returns'] = (data_with_positions['Returns'] * data_with_positions['Position']).cumsum()\n",
    "    return data['Cumulative_Returns']\n",
    "\n",
    "# Calcular os retornos acumulados\n",
    "data['Cumulative_Returns'] = calculate_cumulative_returns(data)"
   ]
  },
  {
   "cell_type": "code",
   "execution_count": 7,
   "metadata": {},
   "outputs": [],
   "source": [
    "def calculate_moving_average(data, window):\n",
    "    return data['Close'].rolling(window=window).mean()\n",
    "\n",
    "def calculate_standard_deviation(data, window):\n",
    "    return data['Close'].rolling(window=window).std()"
   ]
  },
  {
   "cell_type": "code",
   "execution_count": 8,
   "metadata": {},
   "outputs": [
    {
     "name": "stderr",
     "output_type": "stream",
     "text": [
      "C:\\Users\\Caíque Miranda\\AppData\\Local\\Temp\\ipykernel_15408\\2646250237.py:21: SettingWithCopyWarning: \n",
      "A value is trying to be set on a copy of a slice from a DataFrame\n",
      "\n",
      "See the caveats in the documentation: https://pandas.pydata.org/pandas-docs/stable/user_guide/indexing.html#returning-a-view-versus-a-copy\n",
      "  data['Position'][i] = data['Signal'][i]  # Mantém a posição atual\n",
      "C:\\Users\\Caíque Miranda\\AppData\\Local\\Temp\\ipykernel_15408\\2646250237.py:12: SettingWithCopyWarning: \n",
      "A value is trying to be set on a copy of a slice from a DataFrame\n",
      "\n",
      "See the caveats in the documentation: https://pandas.pydata.org/pandas-docs/stable/user_guide/indexing.html#returning-a-view-versus-a-copy\n",
      "  data['Signal'][i] = 1  # Sinal de compra\n"
     ]
    },
    {
     "ename": "KeyError",
     "evalue": "'Cumulative_Returns'",
     "output_type": "error",
     "traceback": [
      "\u001b[1;31m---------------------------------------------------------------------------\u001b[0m",
      "\u001b[1;31mKeyError\u001b[0m                                  Traceback (most recent call last)",
      "File \u001b[1;32mc:\\Users\\Caíque Miranda\\AppData\\Local\\Programs\\Python\\Python310\\lib\\site-packages\\pandas\\core\\indexes\\base.py:3621\u001b[0m, in \u001b[0;36mIndex.get_loc\u001b[1;34m(self, key, method, tolerance)\u001b[0m\n\u001b[0;32m   3620\u001b[0m \u001b[39mtry\u001b[39;00m:\n\u001b[1;32m-> 3621\u001b[0m     \u001b[39mreturn\u001b[39;00m \u001b[39mself\u001b[39;49m\u001b[39m.\u001b[39;49m_engine\u001b[39m.\u001b[39;49mget_loc(casted_key)\n\u001b[0;32m   3622\u001b[0m \u001b[39mexcept\u001b[39;00m \u001b[39mKeyError\u001b[39;00m \u001b[39mas\u001b[39;00m err:\n",
      "File \u001b[1;32mc:\\Users\\Caíque Miranda\\AppData\\Local\\Programs\\Python\\Python310\\lib\\site-packages\\pandas\\_libs\\index.pyx:136\u001b[0m, in \u001b[0;36mpandas._libs.index.IndexEngine.get_loc\u001b[1;34m()\u001b[0m\n",
      "File \u001b[1;32mc:\\Users\\Caíque Miranda\\AppData\\Local\\Programs\\Python\\Python310\\lib\\site-packages\\pandas\\_libs\\index.pyx:163\u001b[0m, in \u001b[0;36mpandas._libs.index.IndexEngine.get_loc\u001b[1;34m()\u001b[0m\n",
      "File \u001b[1;32mpandas\\_libs\\hashtable_class_helper.pxi:5198\u001b[0m, in \u001b[0;36mpandas._libs.hashtable.PyObjectHashTable.get_item\u001b[1;34m()\u001b[0m\n",
      "File \u001b[1;32mpandas\\_libs\\hashtable_class_helper.pxi:5206\u001b[0m, in \u001b[0;36mpandas._libs.hashtable.PyObjectHashTable.get_item\u001b[1;34m()\u001b[0m\n",
      "\u001b[1;31mKeyError\u001b[0m: 'Cumulative_Returns'",
      "\nThe above exception was the direct cause of the following exception:\n",
      "\u001b[1;31mKeyError\u001b[0m                                  Traceback (most recent call last)",
      "\u001b[1;32md:\\GIT-repository\\github-machine-learning-trading\\machine-learning-trading\\notebook_\\bugs.ipynb Cell 7\u001b[0m in \u001b[0;36m<cell line: 28>\u001b[1;34m()\u001b[0m\n\u001b[0;32m     <a href='vscode-notebook-cell:/d%3A/GIT-repository/github-machine-learning-trading/machine-learning-trading/notebook_/bugs.ipynb#X24sZmlsZQ%3D%3D?line=23'>24</a>\u001b[0m     \u001b[39mreturn\u001b[39;00m data\n\u001b[0;32m     <a href='vscode-notebook-cell:/d%3A/GIT-repository/github-machine-learning-trading/machine-learning-trading/notebook_/bugs.ipynb#X24sZmlsZQ%3D%3D?line=26'>27</a>\u001b[0m \u001b[39m# Aplicar a estratégia de trading com stop loss\u001b[39;00m\n\u001b[1;32m---> <a href='vscode-notebook-cell:/d%3A/GIT-repository/github-machine-learning-trading/machine-learning-trading/notebook_/bugs.ipynb#X24sZmlsZQ%3D%3D?line=27'>28</a>\u001b[0m data_with_signals \u001b[39m=\u001b[39m trading_strategy(data, moving_average_window, num_standard_deviations, stop_loss_percent)\n",
      "\u001b[1;32md:\\GIT-repository\\github-machine-learning-trading\\machine-learning-trading\\notebook_\\bugs.ipynb Cell 7\u001b[0m in \u001b[0;36mtrading_strategy\u001b[1;34m(data, ma_window, num_std, stop_loss_percent)\u001b[0m\n\u001b[0;32m     <a href='vscode-notebook-cell:/d%3A/GIT-repository/github-machine-learning-trading/machine-learning-trading/notebook_/bugs.ipynb#X24sZmlsZQ%3D%3D?line=10'>11</a>\u001b[0m \u001b[39melif\u001b[39;00m data[\u001b[39m'\u001b[39m\u001b[39mClose\u001b[39m\u001b[39m'\u001b[39m][i] \u001b[39m<\u001b[39m data[\u001b[39m'\u001b[39m\u001b[39mLower_Band\u001b[39m\u001b[39m'\u001b[39m][i]:\n\u001b[0;32m     <a href='vscode-notebook-cell:/d%3A/GIT-repository/github-machine-learning-trading/machine-learning-trading/notebook_/bugs.ipynb#X24sZmlsZQ%3D%3D?line=11'>12</a>\u001b[0m     data[\u001b[39m'\u001b[39m\u001b[39mSignal\u001b[39m\u001b[39m'\u001b[39m][i] \u001b[39m=\u001b[39m \u001b[39m1\u001b[39m  \u001b[39m# Sinal de compra\u001b[39;00m\n\u001b[1;32m---> <a href='vscode-notebook-cell:/d%3A/GIT-repository/github-machine-learning-trading/machine-learning-trading/notebook_/bugs.ipynb#X24sZmlsZQ%3D%3D?line=13'>14</a>\u001b[0m \u001b[39mif\u001b[39;00m data[\u001b[39m'\u001b[39m\u001b[39mPosition\u001b[39m\u001b[39m'\u001b[39m][i \u001b[39m-\u001b[39m \u001b[39m1\u001b[39m] \u001b[39m==\u001b[39m \u001b[39m1\u001b[39m \u001b[39mand\u001b[39;00m data[\u001b[39m'\u001b[39;49m\u001b[39mCumulative_Returns\u001b[39;49m\u001b[39m'\u001b[39;49m][i] \u001b[39m<\u001b[39m (\u001b[39m1\u001b[39m \u001b[39m-\u001b[39m stop_loss_percent):\n\u001b[0;32m     <a href='vscode-notebook-cell:/d%3A/GIT-repository/github-machine-learning-trading/machine-learning-trading/notebook_/bugs.ipynb#X24sZmlsZQ%3D%3D?line=14'>15</a>\u001b[0m     data[\u001b[39m'\u001b[39m\u001b[39mSignal\u001b[39m\u001b[39m'\u001b[39m][i] \u001b[39m=\u001b[39m \u001b[39m-\u001b[39m\u001b[39m1\u001b[39m  \u001b[39m# Aciona o stop loss e vende a posição\u001b[39;00m\n\u001b[0;32m     <a href='vscode-notebook-cell:/d%3A/GIT-repository/github-machine-learning-trading/machine-learning-trading/notebook_/bugs.ipynb#X24sZmlsZQ%3D%3D?line=15'>16</a>\u001b[0m     data[\u001b[39m'\u001b[39m\u001b[39mPosition\u001b[39m\u001b[39m'\u001b[39m][i] \u001b[39m=\u001b[39m \u001b[39m0\u001b[39m\n",
      "File \u001b[1;32mc:\\Users\\Caíque Miranda\\AppData\\Local\\Programs\\Python\\Python310\\lib\\site-packages\\pandas\\core\\frame.py:3505\u001b[0m, in \u001b[0;36mDataFrame.__getitem__\u001b[1;34m(self, key)\u001b[0m\n\u001b[0;32m   3503\u001b[0m \u001b[39mif\u001b[39;00m \u001b[39mself\u001b[39m\u001b[39m.\u001b[39mcolumns\u001b[39m.\u001b[39mnlevels \u001b[39m>\u001b[39m \u001b[39m1\u001b[39m:\n\u001b[0;32m   3504\u001b[0m     \u001b[39mreturn\u001b[39;00m \u001b[39mself\u001b[39m\u001b[39m.\u001b[39m_getitem_multilevel(key)\n\u001b[1;32m-> 3505\u001b[0m indexer \u001b[39m=\u001b[39m \u001b[39mself\u001b[39;49m\u001b[39m.\u001b[39;49mcolumns\u001b[39m.\u001b[39;49mget_loc(key)\n\u001b[0;32m   3506\u001b[0m \u001b[39mif\u001b[39;00m is_integer(indexer):\n\u001b[0;32m   3507\u001b[0m     indexer \u001b[39m=\u001b[39m [indexer]\n",
      "File \u001b[1;32mc:\\Users\\Caíque Miranda\\AppData\\Local\\Programs\\Python\\Python310\\lib\\site-packages\\pandas\\core\\indexes\\base.py:3623\u001b[0m, in \u001b[0;36mIndex.get_loc\u001b[1;34m(self, key, method, tolerance)\u001b[0m\n\u001b[0;32m   3621\u001b[0m     \u001b[39mreturn\u001b[39;00m \u001b[39mself\u001b[39m\u001b[39m.\u001b[39m_engine\u001b[39m.\u001b[39mget_loc(casted_key)\n\u001b[0;32m   3622\u001b[0m \u001b[39mexcept\u001b[39;00m \u001b[39mKeyError\u001b[39;00m \u001b[39mas\u001b[39;00m err:\n\u001b[1;32m-> 3623\u001b[0m     \u001b[39mraise\u001b[39;00m \u001b[39mKeyError\u001b[39;00m(key) \u001b[39mfrom\u001b[39;00m \u001b[39merr\u001b[39;00m\n\u001b[0;32m   3624\u001b[0m \u001b[39mexcept\u001b[39;00m \u001b[39mTypeError\u001b[39;00m:\n\u001b[0;32m   3625\u001b[0m     \u001b[39m# If we have a listlike key, _check_indexing_error will raise\u001b[39;00m\n\u001b[0;32m   3626\u001b[0m     \u001b[39m#  InvalidIndexError. Otherwise we fall through and re-raise\u001b[39;00m\n\u001b[0;32m   3627\u001b[0m     \u001b[39m#  the TypeError.\u001b[39;00m\n\u001b[0;32m   3628\u001b[0m     \u001b[39mself\u001b[39m\u001b[39m.\u001b[39m_check_indexing_error(key)\n",
      "\u001b[1;31mKeyError\u001b[0m: 'Cumulative_Returns'"
     ]
    }
   ],
   "source": [
    "def trading_strategy(data, ma_window, num_std, stop_loss_percent):\n",
    "    data['SMA'] = calculate_moving_average(data, ma_window)\n",
    "    data['Upper_Band'] = data['SMA'] + (data['Close'].rolling(window=ma_window).std() * num_std)\n",
    "    data['Lower_Band'] = data['SMA'] - (data['Close'].rolling(window=ma_window).std() * num_std)\n",
    "    data['Signal'] = 0\n",
    "    data['Position'] = 0\n",
    "\n",
    "    for i in range(ma_window, len(data)):\n",
    "        if data['Close'][i] > data['Upper_Band'][i]:\n",
    "            data['Signal'][i] = -1  # Sinal de venda\n",
    "        elif data['Close'][i] < data['Lower_Band'][i]:\n",
    "            data['Signal'][i] = 1  # Sinal de compra\n",
    "\n",
    "        if data['Position'][i - 1] == 1 and data['Cumulative_Returns'][i] < (1 - stop_loss_percent):\n",
    "            data['Signal'][i] = -1  # Aciona o stop loss e vende a posição\n",
    "            data['Position'][i] = 0\n",
    "        elif data['Position'][i - 1] == -1 and data['Cumulative_Returns'][i] > 0:\n",
    "            data['Signal'][i] = 1  # Venda a descoberto, aciona o stop loss e compra a posição\n",
    "            data['Position'][i] = 0\n",
    "        else:\n",
    "            data['Position'][i] = data['Signal'][i]  # Mantém a posição atual\n",
    "\n",
    "    data.dropna(inplace=True)\n",
    "    return data\n",
    "\n",
    "\n",
    "# Aplicar a estratégia de trading com stop loss\n",
    "data_with_signals = trading_strategy(data, moving_average_window, num_standard_deviations, stop_loss_percent)"
   ]
  },
  {
   "cell_type": "code",
   "execution_count": null,
   "metadata": {},
   "outputs": [],
   "source": [
    "def calculate_drawdown(data):\n",
    "    data['Peak'] = data['Close'].cummax()\n",
    "    data['Drawdown'] = (data['Peak'] - data['Close']) / data['Peak']\n",
    "    return data['Drawdown']\n",
    "\n",
    "# Calcular o drawdown\n",
    "data_with_signals['Drawdown'] = calculate_drawdown(data_with_signals)"
   ]
  },
  {
   "cell_type": "code",
   "execution_count": null,
   "metadata": {},
   "outputs": [],
   "source": [
    "# Criar a figura com múltiplos gráficos (subplot)\n",
    "fig, (ax1, ax2, ax3) = plt.subplots(3, 1, figsize=(12, 10), sharex=True)\n",
    "\n",
    "# Plotar o gráfico da estratégia na primeira posição do subplot\n",
    "plot_trading_signals(data_with_signals)\n",
    "\n",
    "# Plotar o gráfico do drawdown na segunda posição do subplot\n",
    "plot_drawdown(data_with_signals)\n",
    "\n",
    "# Plotar o gráfico dos retornos acumulados na terceira posição do subplot\n",
    "plot_cumulative_returns(data_with_signals)\n",
    "\n",
    "# Ajustar o layout para evitar sobreposição de elementos\n",
    "plt.tight_layout()\n",
    "\n",
    "# Mostrar os gráficos\n",
    "plt.show()"
   ]
  },
  {
   "cell_type": "code",
   "execution_count": null,
   "metadata": {},
   "outputs": [],
   "source": [
    "def plot_trading_signals(data):\n",
    "    plt.plot(data.index, data['Close'], label='Preço de Fechamento', color='black')\n",
    "    plt.plot(data.index, data['SMA'], label='Média Móvel Simples', color='blue')\n",
    "    plt.fill_between(data.index, data['Upper_Band'], data['Lower_Band'], alpha=0.2, color='gray')\n",
    "    plt.plot(data[data['Signal'] == 1].index, data['Close'][data['Signal'] == 1], '^', markersize=10, color='g', label='Compra')\n",
    "    plt.plot(data[data['Signal'] == -1].index, data['Close'][data['Signal'] == -1], 'v', markersize=10, color='r', label='Venda')\n",
    "    plt.title('Estratégia de Reversão à Média com 2,5 Desvios Padrão')\n",
    "    plt.legend()\n",
    "\n",
    "def plot_drawdown(data):\n",
    "    plt.plot(data.index, data['Drawdown'], label='Drawdown', color='red')\n",
    "    plt.fill_between(data.index, data['Drawdown'], alpha=0.2, color='red')\n",
    "    plt.axhline(y=0, color='black', linestyle='--')\n",
    "    plt.title('Drawdown ao Longo do Tempo')\n",
    "    plt.xlabel('Data')\n",
    "    plt.ylabel('Drawdown')\n",
    "    plt.legend()\n",
    "\n",
    "def plot_cumulative_returns(data):\n",
    "    positive_returns = data['Cumulative_Returns'] >= 0\n",
    "    plt.fill_between(data.index, data['Cumulative_Returns'], where=positive_returns, alpha=0.2, color='green')\n",
    "    plt.fill_between(data.index, data['Cumulative_Returns'], where=~positive_returns, alpha=0.2, color='red')\n",
    "    plt.plot(data.index, data['Cumulative_Returns'], color='green' if data['Cumulative_Returns'].iloc[-1] >= 0 else 'red', linewidth=2)\n",
    "    plt.axhline(y=0, color='black', linestyle='--')\n",
    "    plt.title('Retornos Acumulados da Estratégia')\n",
    "    plt.xlabel('Data')\n",
    "    plt.ylabel('Retornos Acumulados')\n",
    "    plt.legend()"
   ]
  },
  {
   "cell_type": "code",
   "execution_count": null,
   "metadata": {},
   "outputs": [],
   "source": []
  }
 ],
 "metadata": {
  "kernelspec": {
   "display_name": "Python 3",
   "language": "python",
   "name": "python3"
  },
  "language_info": {
   "codemirror_mode": {
    "name": "ipython",
    "version": 3
   },
   "file_extension": ".py",
   "mimetype": "text/x-python",
   "name": "python",
   "nbconvert_exporter": "python",
   "pygments_lexer": "ipython3",
   "version": "3.10.5"
  },
  "orig_nbformat": 4
 },
 "nbformat": 4,
 "nbformat_minor": 2
}
