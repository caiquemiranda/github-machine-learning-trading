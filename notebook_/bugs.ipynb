{
 "cells": [
  {
   "cell_type": "code",
   "execution_count": null,
   "metadata": {},
   "outputs": [],
   "source": [
    "import yfinance as yf\n",
    "import pandas as pd\n",
    "import matplotlib.pyplot as plt"
   ]
  },
  {
   "cell_type": "code",
   "execution_count": null,
   "metadata": {},
   "outputs": [],
   "source": [
    "ticker_symbol = 'AAPL'  # Substitua 'AAPL' pelo ticker do ativo financeiro desejado\n",
    "start_date = '2022-01-01'  # Defina a data de início do histórico de dados\n",
    "end_date = '2023-01-01'  # Defina a data de término do histórico de dados\n",
    "moving_average_window = 20  # Janela da média móvel (20 dias neste exemplo)\n",
    "num_standard_deviations = 2.5  # Número de desvios padrão para a banda superior e inferior\n",
    "stop_loss_percent = 0.05  # Valor percentual para o stop loss (5% neste exemplo)"
   ]
  },
  {
   "cell_type": "code",
   "execution_count": null,
   "metadata": {},
   "outputs": [],
   "source": [
    "data = yf.download(ticker, start=start_date, end=end_date)"
   ]
  },
  {
   "cell_type": "code",
   "execution_count": null,
   "metadata": {},
   "outputs": [],
   "source": [
    "data['Close'].rolling(window=window).mean()"
   ]
  },
  {
   "cell_type": "code",
   "execution_count": null,
   "metadata": {},
   "outputs": [],
   "source": [
    "data['Close'].rolling(window=window).std()"
   ]
  },
  {
   "cell_type": "code",
   "execution_count": null,
   "metadata": {},
   "outputs": [],
   "source": [
    "data['SMA'] = calculate_moving_average(data, ma_window)\n",
    "data['Upper_Band'] = data['SMA'] + (data['Close'].rolling(window=ma_window).std() * num_std)\n",
    "data['Lower_Band'] = data['SMA'] - (data['Close'].rolling(window=ma_window).std() * num_std)\n",
    "data['Signal'] = 0\n",
    "data['Position'] = 0"
   ]
  },
  {
   "cell_type": "code",
   "execution_count": null,
   "metadata": {},
   "outputs": [],
   "source": [
    "def calculate_cumulative_returns(data):\n",
    "    data['Returns'] = data['Close'].pct_change()\n",
    "    data['Position'] = 0  # Inicializa a coluna 'Position'\n",
    "    data_with_positions = trading_strategy(data, moving_average_window, num_standard_deviations, stop_loss_percent)\n",
    "    data['Cumulative_Returns'] = (data_with_positions['Returns'] * data_with_positions['Position']).cumsum()\n",
    "    return data['Cumulative_Returns']\n",
    "\n",
    "data['Cumulative_Returns'] = calculate_cumulative_returns(data)"
   ]
  },
  {
   "cell_type": "code",
   "execution_count": null,
   "metadata": {},
   "outputs": [],
   "source": []
  }
 ],
 "metadata": {
  "language_info": {
   "name": "python"
  },
  "orig_nbformat": 4
 },
 "nbformat": 4,
 "nbformat_minor": 2
}
