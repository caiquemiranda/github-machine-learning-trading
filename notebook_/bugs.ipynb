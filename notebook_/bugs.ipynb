{
 "cells": [
  {
   "cell_type": "code",
   "execution_count": null,
   "metadata": {},
   "outputs": [],
   "source": [
    "import yfinance as yf\n",
    "import pandas as pd\n",
    "#import matplotlib.pyplot as plt"
   ]
  },
  {
   "cell_type": "code",
   "execution_count": null,
   "metadata": {},
   "outputs": [],
   "source": [
    "import warnings\n",
    "warnings.filterwarnings('ignore')"
   ]
  },
  {
   "cell_type": "code",
   "execution_count": null,
   "metadata": {},
   "outputs": [],
   "source": [
    "ticker_symbol = 'AAPL'  # Substitua 'AAPL' pelo ticker do ativo financeiro desejado\n",
    "start_date = '2022-01-01'  # Defina a data de início do histórico de dados\n",
    "end_date = '2023-01-01'  # Defina a data de término do histórico de dados\n",
    "moving_average_window = 20  # Janela da média móvel (20 dias neste exemplo)\n",
    "num_standard_deviations = 2.5  # Número de desvios padrão para a banda superior e inferior\n",
    "stop_loss_percent = 0.05  # Valor percentual para o stop loss (5% neste exemplo)"
   ]
  },
  {
   "cell_type": "code",
   "execution_count": null,
   "metadata": {},
   "outputs": [],
   "source": [
    "def download_historical_data(ticker, start_date, end_date):\n",
    "    data = yf.download(ticker, start=start_date, end=end_date)\n",
    "    return data\n",
    "\n",
    "# Baixar dados históricos do Yahoo Finance\n",
    "data = download_historical_data(ticker_symbol, start_date, end_date)"
   ]
  },
  {
   "cell_type": "code",
   "execution_count": null,
   "metadata": {},
   "outputs": [],
   "source": [
    "data.head()"
   ]
  },
  {
   "cell_type": "code",
   "execution_count": null,
   "metadata": {},
   "outputs": [],
   "source": [
    "data"
   ]
  },
  {
   "cell_type": "code",
   "execution_count": null,
   "metadata": {},
   "outputs": [],
   "source": [
    "def calculate_cumulative_returns(data):\n",
    "    data['Returns'] = data['Close'].pct_change()\n",
    "    data['Position'] = 0  # Inicializa a coluna 'Position'\n",
    "    data_with_positions = trading_strategy(data, moving_average_window, num_standard_deviations, stop_loss_percent)\n",
    "    data['Cumulative_Returns'] = (data_with_positions['Returns'] * data_with_positions['Position']).cumsum()\n",
    "    return data['Cumulative_Returns']\n",
    "\n",
    "# Calcular os retornos acumulados\n",
    "data['Cumulative_Returns'] = calculate_cumulative_returns(data)"
   ]
  },
  {
   "cell_type": "code",
   "execution_count": null,
   "metadata": {},
   "outputs": [],
   "source": [
    "data['Cumulative_Returns'].hist()"
   ]
  },
  {
   "cell_type": "code",
   "execution_count": null,
   "metadata": {},
   "outputs": [],
   "source": [
    "def calculate_moving_average(data, window):\n",
    "    return data['Close'].rolling(window=window).mean()\n",
    "\n",
    "def calculate_standard_deviation(data, window):\n",
    "    return data['Close'].rolling(window=window).std()"
   ]
  },
  {
   "cell_type": "code",
   "execution_count": null,
   "metadata": {},
   "outputs": [],
   "source": [
    "def trading_strategy(data, ma_window, num_std, stop_loss_percent):\n",
    "    data['SMA'] = calculate_moving_average(data, ma_window)\n",
    "    data['Upper_Band'] = data['SMA'] + (data['Close'].rolling(window=ma_window).std() * num_std)\n",
    "    data['Lower_Band'] = data['SMA'] - (data['Close'].rolling(window=ma_window).std() * num_std)\n",
    "    data['Signal'] = 0\n",
    "    data['Position'] = 0\n",
    "\n",
    "    for i in range(ma_window, len(data)):\n",
    "        if data['Close'][i] > data['Upper_Band'][i]:\n",
    "            data['Signal'][i] = -1  # Sinal de venda\n",
    "        elif data['Close'][i] < data['Lower_Band'][i]:\n",
    "            data['Signal'][i] = 1  # Sinal de compra\n",
    "\n",
    "        if data['Position'][i - 1] == 1 and data['Cumulative_Returns'][i] < (1 - stop_loss_percent):\n",
    "            data['Signal'][i] = -1  # Aciona o stop loss e vende a posição\n",
    "            data['Position'][i] = 0\n",
    "        elif data['Position'][i - 1] == -1 and data['Cumulative_Returns'][i] > 0:\n",
    "            data['Signal'][i] = 1  # Venda a descoberto, aciona o stop loss e compra a posição\n",
    "            data['Position'][i] = 0\n",
    "        else:\n",
    "            data['Position'][i] = data['Signal'][i]  # Mantém a posição atual\n",
    "\n",
    "    data.dropna(inplace=True)\n",
    "    return data\n",
    "\n",
    "\n",
    "# Aplicar a estratégia de trading com stop loss\n",
    "data_with_signals = trading_strategy(data, moving_average_window, num_standard_deviations, stop_loss_percent)"
   ]
  },
  {
   "cell_type": "code",
   "execution_count": null,
   "metadata": {},
   "outputs": [],
   "source": [
    "def calculate_drawdown(data):\n",
    "    data['Peak'] = data['Close'].cummax()\n",
    "    data['Drawdown'] = (data['Peak'] - data['Close']) / data['Peak']\n",
    "    return data['Drawdown']\n",
    "\n",
    "# Calcular o drawdown\n",
    "data_with_signals['Drawdown'] = calculate_drawdown(data_with_signals)"
   ]
  },
  {
   "cell_type": "code",
   "execution_count": null,
   "metadata": {},
   "outputs": [],
   "source": [
    "# Criar a figura com múltiplos gráficos (subplot)\n",
    "fig, (ax1, ax2, ax3) = plt.subplots(3, 1, figsize=(12, 10), sharex=True)\n",
    "\n",
    "# Plotar o gráfico da estratégia na primeira posição do subplot\n",
    "plot_trading_signals(data_with_signals)\n",
    "\n",
    "# Plotar o gráfico do drawdown na segunda posição do subplot\n",
    "plot_drawdown(data_with_signals)\n",
    "\n",
    "# Plotar o gráfico dos retornos acumulados na terceira posição do subplot\n",
    "plot_cumulative_returns(data_with_signals)\n",
    "\n",
    "# Ajustar o layout para evitar sobreposição de elementos\n",
    "plt.tight_layout()\n",
    "\n",
    "# Mostrar os gráficos\n",
    "plt.show()"
   ]
  },
  {
   "cell_type": "code",
   "execution_count": null,
   "metadata": {},
   "outputs": [],
   "source": [
    "def plot_trading_signals(data):\n",
    "    plt.plot(data.index, data['Close'], label='Preço de Fechamento', color='black')\n",
    "    plt.plot(data.index, data['SMA'], label='Média Móvel Simples', color='blue')\n",
    "    plt.fill_between(data.index, data['Upper_Band'], data['Lower_Band'], alpha=0.2, color='gray')\n",
    "    plt.plot(data[data['Signal'] == 1].index, data['Close'][data['Signal'] == 1], '^', markersize=10, color='g', label='Compra')\n",
    "    plt.plot(data[data['Signal'] == -1].index, data['Close'][data['Signal'] == -1], 'v', markersize=10, color='r', label='Venda')\n",
    "    plt.title('Estratégia de Reversão à Média com 2,5 Desvios Padrão')\n",
    "    plt.legend()\n",
    "\n",
    "def plot_drawdown(data):\n",
    "    plt.plot(data.index, data['Drawdown'], label='Drawdown', color='red')\n",
    "    plt.fill_between(data.index, data['Drawdown'], alpha=0.2, color='red')\n",
    "    plt.axhline(y=0, color='black', linestyle='--')\n",
    "    plt.title('Drawdown ao Longo do Tempo')\n",
    "    plt.xlabel('Data')\n",
    "    plt.ylabel('Drawdown')\n",
    "    plt.legend()\n",
    "\n",
    "def plot_cumulative_returns(data):\n",
    "    positive_returns = data['Cumulative_Returns'] >= 0\n",
    "    plt.fill_between(data.index, data['Cumulative_Returns'], where=positive_returns, alpha=0.2, color='green')\n",
    "    plt.fill_between(data.index, data['Cumulative_Returns'], where=~positive_returns, alpha=0.2, color='red')\n",
    "    plt.plot(data.index, data['Cumulative_Returns'], color='green' if data['Cumulative_Returns'].iloc[-1] >= 0 else 'red', linewidth=2)\n",
    "    plt.axhline(y=0, color='black', linestyle='--')\n",
    "    plt.title('Retornos Acumulados da Estratégia')\n",
    "    plt.xlabel('Data')\n",
    "    plt.ylabel('Retornos Acumulados')\n",
    "    plt.legend()"
   ]
  },
  {
   "cell_type": "code",
   "execution_count": 1,
   "metadata": {},
   "outputs": [
    {
     "name": "stdout",
     "output_type": "stream",
     "text": [
      "[*********************100%***********************]  1 of 1 completed\n"
     ]
    },
    {
     "name": "stderr",
     "output_type": "stream",
     "text": [
      "C:\\Users\\Caíque Miranda\\AppData\\Local\\Temp\\ipykernel_11756\\3260250946.py:39: SettingWithCopyWarning: \n",
      "A value is trying to be set on a copy of a slice from a DataFrame\n",
      "\n",
      "See the caveats in the documentation: https://pandas.pydata.org/pandas-docs/stable/user_guide/indexing.html#returning-a-view-versus-a-copy\n",
      "  data['Position'][i] = data['Signal'][i]  # Mantém a posição atual\n",
      "C:\\Users\\Caíque Miranda\\AppData\\Local\\Temp\\ipykernel_11756\\3260250946.py:30: SettingWithCopyWarning: \n",
      "A value is trying to be set on a copy of a slice from a DataFrame\n",
      "\n",
      "See the caveats in the documentation: https://pandas.pydata.org/pandas-docs/stable/user_guide/indexing.html#returning-a-view-versus-a-copy\n",
      "  data['Signal'][i] = 1  # Sinal de compra\n",
      "C:\\Users\\Caíque Miranda\\AppData\\Local\\Temp\\ipykernel_11756\\3260250946.py:33: SettingWithCopyWarning: \n",
      "A value is trying to be set on a copy of a slice from a DataFrame\n",
      "\n",
      "See the caveats in the documentation: https://pandas.pydata.org/pandas-docs/stable/user_guide/indexing.html#returning-a-view-versus-a-copy\n",
      "  data['Signal'][i] = -1  # Aciona o stop loss e vende a posição\n",
      "C:\\Users\\Caíque Miranda\\AppData\\Local\\Temp\\ipykernel_11756\\3260250946.py:34: SettingWithCopyWarning: \n",
      "A value is trying to be set on a copy of a slice from a DataFrame\n",
      "\n",
      "See the caveats in the documentation: https://pandas.pydata.org/pandas-docs/stable/user_guide/indexing.html#returning-a-view-versus-a-copy\n",
      "  data['Position'][i] = 0\n"
     ]
    },
    {
     "data": {
      "image/png": "[encoded data removed]",
      "text/plain": [
       "<Figure size 864x720 with 3 Axes>"
      ]
     },
     "metadata": {
      "needs_background": "light"
     },
     "output_type": "display_data"
    }
   ],
   "source": [
    "import yfinance as yf\n",
    "import random\n",
    "import pandas as pd\n",
    "import matplotlib.pyplot as plt\n",
    "\n",
    "def download_historical_data(ticker, start_date, end_date):\n",
    "    data = yf.download(ticker, start=start_date, end=end_date)\n",
    "    tamanho_do_dataframe = 251\n",
    "    data['Cumulative_Returns'] = [random.randint(0, 100) for _ in range(tamanho_do_dataframe)]\n",
    "    return data\n",
    "\n",
    "def calculate_moving_average(data, window):\n",
    "    return data['Close'].rolling(window=window).mean()\n",
    "\n",
    "def calculate_standard_deviation(data, window):\n",
    "    return data['Close'].rolling(window=window).std()\n",
    "\n",
    "def trading_strategy(data, ma_window, num_std, stop_loss_percent):\n",
    "    \n",
    "    data['SMA'] = calculate_moving_average(data, ma_window)\n",
    "    data['Upper_Band'] = data['SMA'] + (data['Close'].rolling(window=ma_window).std() * num_std)\n",
    "    data['Lower_Band'] = data['SMA'] - (data['Close'].rolling(window=ma_window).std() * num_std)\n",
    "    data['Signal'] = 0\n",
    "    data['Position'] = 0\n",
    "\n",
    "    for i in range(ma_window, len(data)):\n",
    "        if data['Close'][i] > data['Upper_Band'][i]:\n",
    "            data['Signal'][i] = -1  # Sinal de venda\n",
    "        elif data['Close'][i] < data['Lower_Band'][i]:\n",
    "            data['Signal'][i] = 1  # Sinal de compra\n",
    "\n",
    "        if data['Position'][i - 1] == 1 and data['Cumulative_Returns'][i] < (1 - stop_loss_percent):\n",
    "            data['Signal'][i] = -1  # Aciona o stop loss e vende a posição\n",
    "            data['Position'][i] = 0\n",
    "        elif data['Position'][i - 1] == -1 and data['Cumulative_Returns'][i] > 0:\n",
    "            data['Signal'][i] = 1  # Venda a descoberto, aciona o stop loss e compra a posição\n",
    "            data['Position'][i] = 0\n",
    "        else:\n",
    "            data['Position'][i] = data['Signal'][i]  # Mantém a posição atual\n",
    "\n",
    "    data.dropna(inplace=True)\n",
    "    return data\n",
    "\n",
    "def calculate_drawdown(data):\n",
    "    data['Peak'] = data['Close'].cummax()\n",
    "    data['Drawdown'] = (data['Peak'] - data['Close']) / data['Peak']\n",
    "    return data['Drawdown']\n",
    "\n",
    "def calculate_cumulative_returns(data):\n",
    "    data['Returns'] = data['Close'].pct_change()\n",
    "    data['Position'] = 0  # Inicializa a coluna 'Position'\n",
    "    data_with_positions = trading_strategy(data, moving_average_window, num_standard_deviations, stop_loss_percent)\n",
    "    data['Cumulative_Returns'] = (data_with_positions['Returns'] * data_with_positions['Position']).cumsum()\n",
    "    return data['Cumulative_Returns']\n",
    "\n",
    "def plot_trading_signals(data):\n",
    "    plt.plot(data.index, data['Close'], label='Preço de Fechamento', color='black')\n",
    "    plt.plot(data.index, data['SMA'], label='Média Móvel Simples', color='blue')\n",
    "    plt.fill_between(data.index, data['Upper_Band'], data['Lower_Band'], alpha=0.2, color='gray')\n",
    "    plt.plot(data[data['Signal'] == 1].index, data['Close'][data['Signal'] == 1], '^', markersize=10, color='g', label='Compra')\n",
    "    plt.plot(data[data['Signal'] == -1].index, data['Close'][data['Signal'] == -1], 'v', markersize=10, color='r', label='Venda')\n",
    "    plt.title('Estratégia de Reversão à Média com 2,5 Desvios Padrão')\n",
    "    plt.legend()\n",
    "\n",
    "def plot_drawdown(data):\n",
    "    plt.plot(data.index, data['Drawdown'], label='Drawdown', color='red')\n",
    "    plt.fill_between(data.index, data['Drawdown'], alpha=0.2, color='red')\n",
    "    plt.axhline(y=0, color='black', linestyle='--')\n",
    "    plt.title('Drawdown ao Longo do Tempo')\n",
    "    plt.xlabel('Data')\n",
    "    plt.ylabel('Drawdown')\n",
    "    plt.legend()\n",
    "\n",
    "def plot_cumulative_returns(data):\n",
    "    positive_returns = data['Cumulative_Returns'] >= 0\n",
    "    plt.fill_between(data.index, data['Cumulative_Returns'], where=positive_returns, alpha=0.2, color='green')\n",
    "    plt.fill_between(data.index, data['Cumulative_Returns'], where=~positive_returns, alpha=0.2, color='red')\n",
    "    plt.plot(data.index, data['Cumulative_Returns'], color='green' if data['Cumulative_Returns'].iloc[-1] >= 0 else 'red', linewidth=2)\n",
    "    plt.axhline(y=0, color='black', linestyle='--')\n",
    "    plt.title('Retornos Acumulados da Estratégia')\n",
    "    plt.xlabel('Data')\n",
    "    plt.ylabel('Retornos Acumulados')\n",
    "    plt.legend()\n",
    "\n",
    "if __name__ == \"__main__\":\n",
    "    ticker_symbol = 'AAPL'  # Substitua 'AAPL' pelo ticker do ativo financeiro desejado\n",
    "    start_date = '2022-01-01'  # Defina a data de início do histórico de dados\n",
    "    end_date = '2023-01-01'  # Defina a data de término do histórico de dados\n",
    "    moving_average_window = 20  # Janela da média móvel (20 dias neste exemplo)\n",
    "    num_standard_deviations = 2.5  # Número de desvios padrão para a banda superior e inferior\n",
    "    stop_loss_percent = 0.05  # Valor percentual para o stop loss (5% neste exemplo)\n",
    "\n",
    "    # Baixar dados históricos do Yahoo Finance\n",
    "    data = download_historical_data(ticker_symbol, start_date, end_date)\n",
    "\n",
    "    # Calcular os retornos acumulados\n",
    "    data['Cumulative_Returns'] = calculate_cumulative_returns(data)\n",
    "\n",
    "    # Aplicar a estratégia de trading com stop loss\n",
    "    data_with_signals = trading_strategy(data, moving_average_window, num_standard_deviations, stop_loss_percent)\n",
    "\n",
    "    # Calcular o drawdown\n",
    "    data_with_signals['Drawdown'] = calculate_drawdown(data_with_signals)\n",
    "\n",
    "    # Criar a figura com múltiplos gráficos (subplot)\n",
    "    fig, (ax1, ax2, ax3) = plt.subplots(3, 1, figsize=(12, 10), sharex=True)\n",
    "\n",
    "    # Plotar o gráfico da estratégia na primeira posição do subplot\n",
    "    plot_trading_signals(data_with_signals)\n",
    "\n",
    "    # Plotar o gráfico do drawdown na segunda posição do subplot\n",
    "    plot_drawdown(data_with_signals)\n",
    "\n",
    "    # Plotar o gráfico dos retornos acumulados na terceira posição do subplot\n",
    "    plot_cumulative_returns(data_with_signals)\n",
    "\n",
    "    # Ajustar o layout para evitar sobreposição de elementos\n",
    "    plt.tight_layout()\n",
    "\n",
    "    # Mostrar os gráficos\n",
    "    plt.show()\n"
   ]
  },
  {
   "cell_type": "code",
   "execution_count": null,
   "metadata": {},
   "outputs": [],
   "source": []
  }
 ],
 "metadata": {
  "kernelspec": {
   "display_name": "Python 3",
   "language": "python",
   "name": "python3"
  },
  "language_info": {
   "codemirror_mode": {
    "name": "ipython",
    "version": 3
   },
   "file_extension": ".py",
   "mimetype": "text/x-python",
   "name": "python",
   "nbconvert_exporter": "python",
   "pygments_lexer": "ipython3",
   "version": "3.10.5"
  },
  "orig_nbformat": 4
 },
 "nbformat": 4,
 "nbformat_minor": 2
}
