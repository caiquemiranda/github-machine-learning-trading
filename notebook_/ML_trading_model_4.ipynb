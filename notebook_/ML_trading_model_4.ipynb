{
 "cells": [
  {
   "cell_type": "code",
   "execution_count": 1,
   "metadata": {},
   "outputs": [],
   "source": [
    "import warnings\n",
    "warnings.filterwarnings('ignore')"
   ]
  },
  {
   "cell_type": "code",
   "execution_count": 2,
   "metadata": {},
   "outputs": [],
   "source": [
    "import numpy as np\n",
    "import pandas as pd\n",
    "from sklearn.preprocessing import MinMaxScaler\n",
    "from tensorflow.keras.models import Sequential, Model\n",
    "from tensorflow.keras.layers import LSTM, RepeatVector, TimeDistributed, Dense\n",
    "import matplotlib.pyplot as plt"
   ]
  },
  {
   "cell_type": "code",
   "execution_count": 3,
   "metadata": {},
   "outputs": [],
   "source": [
    "# Carregar dados\n",
    "data = pd.read_csv('data_/TSLA.csv')\n",
    "data['Date'] = pd.to_datetime(data['Date'])"
   ]
  },
  {
   "cell_type": "code",
   "execution_count": 4,
   "metadata": {},
   "outputs": [
    {
     "data": {
      "text/html": [
       "<div>\n",
       "<style scoped>\n",
       "    .dataframe tbody tr th:only-of-type {\n",
       "        vertical-align: middle;\n",
       "    }\n",
       "\n",
       "    .dataframe tbody tr th {\n",
       "        vertical-align: top;\n",
       "    }\n",
       "\n",
       "    .dataframe thead th {\n",
       "        text-align: right;\n",
       "    }\n",
       "</style>\n",
       "<table border=\"1\" class=\"dataframe\">\n",
       "  <thead>\n",
       "    <tr style=\"text-align: right;\">\n",
       "      <th></th>\n",
       "      <th>Date</th>\n",
       "      <th>Open</th>\n",
       "      <th>High</th>\n",
       "      <th>Low</th>\n",
       "      <th>Close</th>\n",
       "      <th>Adj Close</th>\n",
       "      <th>Volume</th>\n",
       "    </tr>\n",
       "  </thead>\n",
       "  <tbody>\n",
       "    <tr>\n",
       "      <th>0</th>\n",
       "      <td>2019-01-09</td>\n",
       "      <td>22.366667</td>\n",
       "      <td>22.900000</td>\n",
       "      <td>22.098000</td>\n",
       "      <td>22.568666</td>\n",
       "      <td>22.568666</td>\n",
       "      <td>81493500</td>\n",
       "    </tr>\n",
       "    <tr>\n",
       "      <th>1</th>\n",
       "      <td>2019-01-10</td>\n",
       "      <td>22.293333</td>\n",
       "      <td>23.025999</td>\n",
       "      <td>22.119333</td>\n",
       "      <td>22.997999</td>\n",
       "      <td>22.997999</td>\n",
       "      <td>90846000</td>\n",
       "    </tr>\n",
       "    <tr>\n",
       "      <th>2</th>\n",
       "      <td>2019-01-11</td>\n",
       "      <td>22.806000</td>\n",
       "      <td>23.227333</td>\n",
       "      <td>22.584667</td>\n",
       "      <td>23.150667</td>\n",
       "      <td>23.150667</td>\n",
       "      <td>75586500</td>\n",
       "    </tr>\n",
       "    <tr>\n",
       "      <th>3</th>\n",
       "      <td>2019-01-14</td>\n",
       "      <td>22.825333</td>\n",
       "      <td>22.833332</td>\n",
       "      <td>22.266666</td>\n",
       "      <td>22.293333</td>\n",
       "      <td>22.293333</td>\n",
       "      <td>78709500</td>\n",
       "    </tr>\n",
       "    <tr>\n",
       "      <th>4</th>\n",
       "      <td>2019-01-15</td>\n",
       "      <td>22.333332</td>\n",
       "      <td>23.253332</td>\n",
       "      <td>22.299999</td>\n",
       "      <td>22.962000</td>\n",
       "      <td>22.962000</td>\n",
       "      <td>90849000</td>\n",
       "    </tr>\n",
       "  </tbody>\n",
       "</table>\n",
       "</div>"
      ],
      "text/plain": [
       "        Date       Open       High        Low      Close  Adj Close    Volume\n",
       "0 2019-01-09  22.366667  22.900000  22.098000  22.568666  22.568666  81493500\n",
       "1 2019-01-10  22.293333  23.025999  22.119333  22.997999  22.997999  90846000\n",
       "2 2019-01-11  22.806000  23.227333  22.584667  23.150667  23.150667  75586500\n",
       "3 2019-01-14  22.825333  22.833332  22.266666  22.293333  22.293333  78709500\n",
       "4 2019-01-15  22.333332  23.253332  22.299999  22.962000  22.962000  90849000"
      ]
     },
     "execution_count": 4,
     "metadata": {},
     "output_type": "execute_result"
    }
   ],
   "source": [
    "data.head()"
   ]
  },
  {
   "cell_type": "code",
   "execution_count": 5,
   "metadata": {},
   "outputs": [],
   "source": [
    "# Usar fechamento, máxima e mínima das ações\n",
    "input_data = data[['Close', 'High', 'Low']].values"
   ]
  },
  {
   "cell_type": "code",
   "execution_count": 6,
   "metadata": {},
   "outputs": [],
   "source": [
    "# Normalizar dados\n",
    "scaler = MinMaxScaler()\n",
    "normalized_data = scaler.fit_transform(input_data)"
   ]
  },
  {
   "cell_type": "code",
   "execution_count": null,
   "metadata": {},
   "outputs": [],
   "source": [
    "# Criar sequências temporais\n",
    "def create_sequences(data, seq_length):\n",
    "    sequences = []SEQ_LENGTH = 10"
   ]
  },
  {
   "cell_type": "code",
   "execution_count": null,
   "metadata": {},
   "outputs": [],
   "source": [
    "X = create_sequences(normalized_data, SEQ_LENGTH)\n",
    "\n",
    "# Construir o autoencoder\n",
    "model = Sequential()\n",
    "for i in range(len(data) - seq_length):\n",
    "    seq = data[i:i+seq_length]\n",
    "    sequences.append(seq)\n",
    "return np.array(sequences)\n",
    "\n",
    "# Camada de encoder\n",
    "model.add(LSTM(100, activation='relu', input_shape=(SEQ_LENGTH, 3), return_sequences=True))\n",
    "model.add(LSTM(50, activation='relu', return_sequences=False))\n",
    "model.add(RepeatVector(SEQ_LENGTH))\n",
    "\n",
    "# Camada de decoder\n",
    "model.add(LSTM(50, activation='relu', return_sequences=True))\n",
    "model.add(LSTM(100, activation='relu', return_sequences=True))\n",
    "model.add(TimeDistributed(Dense(3)))\n",
    "\n",
    "model.compile(optimizer='adam', loss='mse')\n",
    "model.summary()"
   ]
  },
  {
   "cell_type": "code",
   "execution_count": null,
   "metadata": {},
   "outputs": [],
   "source": [
    "# Treinar o autoencoder\n",
    "model.fit(X, X, epochs=100, batch_size=32, validation_split=0.1, verbose=1)\n",
    "\n",
    "# Usar o encoder para obter a representação comprimida dos dados\n",
    "encoder = Model(inputs=model.inputs, outputs=model.layers[1].output)\n",
    "encoded_data = encoder.predict(X)"
   ]
  }
 ],
 "metadata": {
  "kernelspec": {
   "display_name": "Python 3",
   "language": "python",
   "name": "python3"
  },
  "language_info": {
   "codemirror_mode": {
    "name": "ipython",
    "version": 3
   },
   "file_extension": ".py",
   "mimetype": "text/x-python",
   "name": "python",
   "nbconvert_exporter": "python",
   "pygments_lexer": "ipython3",
   "version": "3.10.5"
  }
 },
 "nbformat": 4,
 "nbformat_minor": 2
}
